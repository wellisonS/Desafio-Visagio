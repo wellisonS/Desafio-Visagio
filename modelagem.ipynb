{
 "cells": [
  {
   "cell_type": "markdown",
   "metadata": {},
   "source": [
    "# Imports"
   ]
  },
  {
   "cell_type": "code",
   "execution_count": 72,
   "metadata": {},
   "outputs": [],
   "source": [
    "import pandas as pd\n",
    "import seaborn as sns\n",
    "from sklearn.preprocessing import MinMaxScaler"
   ]
  },
  {
   "cell_type": "markdown",
   "metadata": {},
   "source": [
    "# Lendo os dados"
   ]
  },
  {
   "cell_type": "code",
   "execution_count": 73,
   "metadata": {},
   "outputs": [],
   "source": [
    "df = pd.read_csv('data/Dataset_Treino.csv')"
   ]
  },
  {
   "cell_type": "code",
   "execution_count": 74,
   "metadata": {},
   "outputs": [
    {
     "data": {
      "text/html": [
       "<div>\n",
       "<style scoped>\n",
       "    .dataframe tbody tr th:only-of-type {\n",
       "        vertical-align: middle;\n",
       "    }\n",
       "\n",
       "    .dataframe tbody tr th {\n",
       "        vertical-align: top;\n",
       "    }\n",
       "\n",
       "    .dataframe thead th {\n",
       "        text-align: right;\n",
       "    }\n",
       "</style>\n",
       "<table border=\"1\" class=\"dataframe\">\n",
       "  <thead>\n",
       "    <tr style=\"text-align: right;\">\n",
       "      <th></th>\n",
       "      <th>ID_Aluno</th>\n",
       "      <th>Idade</th>\n",
       "      <th>Tipo_escola</th>\n",
       "      <th>Escolaridade</th>\n",
       "      <th>Estado</th>\n",
       "      <th>Municipio</th>\n",
       "      <th>Trabalhando</th>\n",
       "      <th>Estudando</th>\n",
       "      <th>Concluiu_EAD</th>\n",
       "      <th>Aprender_EAD</th>\n",
       "      <th>...</th>\n",
       "      <th>Disponibilidade_Tutoria</th>\n",
       "      <th>Disponibilidade_3_Meses</th>\n",
       "      <th>Pessoas_Casa</th>\n",
       "      <th>Renda_Familiar</th>\n",
       "      <th>Conheceu_PROA</th>\n",
       "      <th>Horario_Estudando</th>\n",
       "      <th>Data_Inscrição</th>\n",
       "      <th>Dias_Espera_Aprovacao</th>\n",
       "      <th>Dias_Espera_Inicio</th>\n",
       "      <th>Abandono_curso</th>\n",
       "    </tr>\n",
       "  </thead>\n",
       "  <tbody>\n",
       "    <tr>\n",
       "      <th>0</th>\n",
       "      <td>1</td>\n",
       "      <td>19</td>\n",
       "      <td>public</td>\n",
       "      <td>Cursando o 3º ano do Ensino Médio</td>\n",
       "      <td>SP</td>\n",
       "      <td>São Paulo</td>\n",
       "      <td>Não</td>\n",
       "      <td>Sim</td>\n",
       "      <td>SIm e fiz totalmente pelo celular</td>\n",
       "      <td>Muito eu tenho uma rotina definida para partic...</td>\n",
       "      <td>...</td>\n",
       "      <td>Sim</td>\n",
       "      <td>Sim</td>\n",
       "      <td>7</td>\n",
       "      <td>Entre 2 e 3 salários mínimos (R$2.200 – R$3.300)</td>\n",
       "      <td>LinkedIn</td>\n",
       "      <td>Noite</td>\n",
       "      <td>15/09/2022</td>\n",
       "      <td>0.0</td>\n",
       "      <td>123</td>\n",
       "      <td>1</td>\n",
       "    </tr>\n",
       "    <tr>\n",
       "      <th>1</th>\n",
       "      <td>2</td>\n",
       "      <td>21</td>\n",
       "      <td>public</td>\n",
       "      <td>Cursando o 3º ano do Ensino Médio</td>\n",
       "      <td>RJ</td>\n",
       "      <td>Rio de Janeiro</td>\n",
       "      <td>Não</td>\n",
       "      <td>Não</td>\n",
       "      <td>Ainda não concluí um curso a distância</td>\n",
       "      <td>Eu prefiro cursos presenciais</td>\n",
       "      <td>...</td>\n",
       "      <td>Sim</td>\n",
       "      <td>Sim</td>\n",
       "      <td>3</td>\n",
       "      <td>Entre 1 e 2 salários mínimos (R$1.100 – R$2.200)</td>\n",
       "      <td>Junior Achievement</td>\n",
       "      <td>Manhã</td>\n",
       "      <td>15/09/2022</td>\n",
       "      <td>1.0</td>\n",
       "      <td>123</td>\n",
       "      <td>0</td>\n",
       "    </tr>\n",
       "    <tr>\n",
       "      <th>2</th>\n",
       "      <td>3</td>\n",
       "      <td>17</td>\n",
       "      <td>public</td>\n",
       "      <td>Cursando o 3º ano do Ensino Médio</td>\n",
       "      <td>SP</td>\n",
       "      <td>São Paulo</td>\n",
       "      <td>Não</td>\n",
       "      <td>Sim</td>\n",
       "      <td>Nunca realizei um curso a distância</td>\n",
       "      <td>Muito eu tenho uma rotina definida para partic...</td>\n",
       "      <td>...</td>\n",
       "      <td>Sim</td>\n",
       "      <td>Sim</td>\n",
       "      <td>3</td>\n",
       "      <td>Até 1 salário mínimo (até R$1.100)</td>\n",
       "      <td>Indicação de familiar</td>\n",
       "      <td>Manhã</td>\n",
       "      <td>15/09/2022</td>\n",
       "      <td>1.0</td>\n",
       "      <td>123</td>\n",
       "      <td>0</td>\n",
       "    </tr>\n",
       "    <tr>\n",
       "      <th>3</th>\n",
       "      <td>4</td>\n",
       "      <td>18</td>\n",
       "      <td>public</td>\n",
       "      <td>Ensino Médio concluído e não estudando</td>\n",
       "      <td>SP</td>\n",
       "      <td>Osasco</td>\n",
       "      <td>Não</td>\n",
       "      <td>Sim</td>\n",
       "      <td>Sim e fiz parcialmente pelo computador e parci...</td>\n",
       "      <td>Muito eu tenho uma rotina definida para partic...</td>\n",
       "      <td>...</td>\n",
       "      <td>Sim</td>\n",
       "      <td>Sim</td>\n",
       "      <td>5</td>\n",
       "      <td>Entre 1 e 2 salários mínimos (R$1.100 – R$2.200)</td>\n",
       "      <td>Instagram</td>\n",
       "      <td>Noite</td>\n",
       "      <td>15/09/2022</td>\n",
       "      <td>3.0</td>\n",
       "      <td>123</td>\n",
       "      <td>0</td>\n",
       "    </tr>\n",
       "    <tr>\n",
       "      <th>4</th>\n",
       "      <td>5</td>\n",
       "      <td>19</td>\n",
       "      <td>public</td>\n",
       "      <td>Ensino Médio concluído e não estudando</td>\n",
       "      <td>RJ</td>\n",
       "      <td>Rio de Janeiro</td>\n",
       "      <td>Não</td>\n",
       "      <td>Não</td>\n",
       "      <td>Sim e fiz parcialmente pelo computador e parci...</td>\n",
       "      <td>Não sei dizer</td>\n",
       "      <td>...</td>\n",
       "      <td>Sim</td>\n",
       "      <td>Sim</td>\n",
       "      <td>3</td>\n",
       "      <td>Entre 1 e 2 salários mínimos (R$1.100 – R$2.200)</td>\n",
       "      <td>Divulgação do iFood</td>\n",
       "      <td>Já concluí</td>\n",
       "      <td>15/09/2022</td>\n",
       "      <td>0.0</td>\n",
       "      <td>123</td>\n",
       "      <td>0</td>\n",
       "    </tr>\n",
       "  </tbody>\n",
       "</table>\n",
       "<p>5 rows × 21 columns</p>\n",
       "</div>"
      ],
      "text/plain": [
       "   ID_Aluno  Idade Tipo_escola                            Escolaridade Estado  \\\n",
       "0         1     19      public       Cursando o 3º ano do Ensino Médio     SP   \n",
       "1         2     21      public       Cursando o 3º ano do Ensino Médio     RJ   \n",
       "2         3     17      public       Cursando o 3º ano do Ensino Médio     SP   \n",
       "3         4     18      public  Ensino Médio concluído e não estudando     SP   \n",
       "4         5     19      public  Ensino Médio concluído e não estudando     RJ   \n",
       "\n",
       "        Municipio Trabalhando Estudando  \\\n",
       "0       São Paulo         Não       Sim   \n",
       "1  Rio de Janeiro         Não       Não   \n",
       "2       São Paulo         Não       Sim   \n",
       "3          Osasco         Não       Sim   \n",
       "4  Rio de Janeiro         Não       Não   \n",
       "\n",
       "                                        Concluiu_EAD  \\\n",
       "0                  SIm e fiz totalmente pelo celular   \n",
       "1             Ainda não concluí um curso a distância   \n",
       "2                Nunca realizei um curso a distância   \n",
       "3  Sim e fiz parcialmente pelo computador e parci...   \n",
       "4  Sim e fiz parcialmente pelo computador e parci...   \n",
       "\n",
       "                                        Aprender_EAD  ...  \\\n",
       "0  Muito eu tenho uma rotina definida para partic...  ...   \n",
       "1                      Eu prefiro cursos presenciais  ...   \n",
       "2  Muito eu tenho uma rotina definida para partic...  ...   \n",
       "3  Muito eu tenho uma rotina definida para partic...  ...   \n",
       "4                                      Não sei dizer  ...   \n",
       "\n",
       "  Disponibilidade_Tutoria Disponibilidade_3_Meses Pessoas_Casa  \\\n",
       "0                     Sim                     Sim            7   \n",
       "1                     Sim                     Sim            3   \n",
       "2                     Sim                     Sim            3   \n",
       "3                     Sim                     Sim            5   \n",
       "4                     Sim                     Sim            3   \n",
       "\n",
       "                                     Renda_Familiar          Conheceu_PROA  \\\n",
       "0  Entre 2 e 3 salários mínimos (R$2.200 – R$3.300)               LinkedIn   \n",
       "1  Entre 1 e 2 salários mínimos (R$1.100 – R$2.200)     Junior Achievement   \n",
       "2                Até 1 salário mínimo (até R$1.100)  Indicação de familiar   \n",
       "3  Entre 1 e 2 salários mínimos (R$1.100 – R$2.200)              Instagram   \n",
       "4  Entre 1 e 2 salários mínimos (R$1.100 – R$2.200)    Divulgação do iFood   \n",
       "\n",
       "  Horario_Estudando Data_Inscrição Dias_Espera_Aprovacao  Dias_Espera_Inicio  \\\n",
       "0             Noite     15/09/2022                   0.0                 123   \n",
       "1             Manhã     15/09/2022                   1.0                 123   \n",
       "2             Manhã     15/09/2022                   1.0                 123   \n",
       "3             Noite     15/09/2022                   3.0                 123   \n",
       "4        Já concluí     15/09/2022                   0.0                 123   \n",
       "\n",
       "   Abandono_curso  \n",
       "0               1  \n",
       "1               0  \n",
       "2               0  \n",
       "3               0  \n",
       "4               0  \n",
       "\n",
       "[5 rows x 21 columns]"
      ]
     },
     "execution_count": 74,
     "metadata": {},
     "output_type": "execute_result"
    }
   ],
   "source": [
    "df.head()"
   ]
  },
  {
   "cell_type": "code",
   "execution_count": 75,
   "metadata": {},
   "outputs": [
    {
     "data": {
      "text/html": [
       "<div>\n",
       "<style scoped>\n",
       "    .dataframe tbody tr th:only-of-type {\n",
       "        vertical-align: middle;\n",
       "    }\n",
       "\n",
       "    .dataframe tbody tr th {\n",
       "        vertical-align: top;\n",
       "    }\n",
       "\n",
       "    .dataframe thead th {\n",
       "        text-align: right;\n",
       "    }\n",
       "</style>\n",
       "<table border=\"1\" class=\"dataframe\">\n",
       "  <thead>\n",
       "    <tr style=\"text-align: right;\">\n",
       "      <th></th>\n",
       "      <th>ID_Aluno</th>\n",
       "      <th>Idade</th>\n",
       "      <th>Tipo_escola</th>\n",
       "      <th>Escolaridade</th>\n",
       "      <th>Estado</th>\n",
       "      <th>Municipio</th>\n",
       "      <th>Trabalhando</th>\n",
       "      <th>Estudando</th>\n",
       "      <th>Concluiu_EAD</th>\n",
       "      <th>Aprender_EAD</th>\n",
       "      <th>...</th>\n",
       "      <th>Disponibilidade_Tutoria</th>\n",
       "      <th>Disponibilidade_3_Meses</th>\n",
       "      <th>Pessoas_Casa</th>\n",
       "      <th>Renda_Familiar</th>\n",
       "      <th>Conheceu_PROA</th>\n",
       "      <th>Horario_Estudando</th>\n",
       "      <th>Data_Inscrição</th>\n",
       "      <th>Dias_Espera_Aprovacao</th>\n",
       "      <th>Dias_Espera_Inicio</th>\n",
       "      <th>Abandono_curso</th>\n",
       "    </tr>\n",
       "  </thead>\n",
       "  <tbody>\n",
       "    <tr>\n",
       "      <th>0</th>\n",
       "      <td>1</td>\n",
       "      <td>19</td>\n",
       "      <td>public</td>\n",
       "      <td>Cursando o 3º ano do Ensino Médio</td>\n",
       "      <td>SP</td>\n",
       "      <td>São Paulo</td>\n",
       "      <td>Não</td>\n",
       "      <td>Sim</td>\n",
       "      <td>SIm e fiz totalmente pelo celular</td>\n",
       "      <td>Muito eu tenho uma rotina definida para partic...</td>\n",
       "      <td>...</td>\n",
       "      <td>Sim</td>\n",
       "      <td>Sim</td>\n",
       "      <td>7</td>\n",
       "      <td>Entre 2 e 3 salários mínimos (R$2.200 – R$3.300)</td>\n",
       "      <td>LinkedIn</td>\n",
       "      <td>Noite</td>\n",
       "      <td>15/09/2022</td>\n",
       "      <td>0.0</td>\n",
       "      <td>123</td>\n",
       "      <td>1</td>\n",
       "    </tr>\n",
       "    <tr>\n",
       "      <th>1</th>\n",
       "      <td>2</td>\n",
       "      <td>21</td>\n",
       "      <td>public</td>\n",
       "      <td>Cursando o 3º ano do Ensino Médio</td>\n",
       "      <td>RJ</td>\n",
       "      <td>Rio de Janeiro</td>\n",
       "      <td>Não</td>\n",
       "      <td>Não</td>\n",
       "      <td>Ainda não concluí um curso a distância</td>\n",
       "      <td>Eu prefiro cursos presenciais</td>\n",
       "      <td>...</td>\n",
       "      <td>Sim</td>\n",
       "      <td>Sim</td>\n",
       "      <td>3</td>\n",
       "      <td>Entre 1 e 2 salários mínimos (R$1.100 – R$2.200)</td>\n",
       "      <td>Junior Achievement</td>\n",
       "      <td>Manhã</td>\n",
       "      <td>15/09/2022</td>\n",
       "      <td>1.0</td>\n",
       "      <td>123</td>\n",
       "      <td>0</td>\n",
       "    </tr>\n",
       "    <tr>\n",
       "      <th>2</th>\n",
       "      <td>3</td>\n",
       "      <td>17</td>\n",
       "      <td>public</td>\n",
       "      <td>Cursando o 3º ano do Ensino Médio</td>\n",
       "      <td>SP</td>\n",
       "      <td>São Paulo</td>\n",
       "      <td>Não</td>\n",
       "      <td>Sim</td>\n",
       "      <td>Nunca realizei um curso a distância</td>\n",
       "      <td>Muito eu tenho uma rotina definida para partic...</td>\n",
       "      <td>...</td>\n",
       "      <td>Sim</td>\n",
       "      <td>Sim</td>\n",
       "      <td>3</td>\n",
       "      <td>Até 1 salário mínimo (até R$1.100)</td>\n",
       "      <td>Indicação de familiar</td>\n",
       "      <td>Manhã</td>\n",
       "      <td>15/09/2022</td>\n",
       "      <td>1.0</td>\n",
       "      <td>123</td>\n",
       "      <td>0</td>\n",
       "    </tr>\n",
       "    <tr>\n",
       "      <th>3</th>\n",
       "      <td>4</td>\n",
       "      <td>18</td>\n",
       "      <td>public</td>\n",
       "      <td>Ensino Médio concluído e não estudando</td>\n",
       "      <td>SP</td>\n",
       "      <td>Osasco</td>\n",
       "      <td>Não</td>\n",
       "      <td>Sim</td>\n",
       "      <td>Sim e fiz parcialmente pelo computador e parci...</td>\n",
       "      <td>Muito eu tenho uma rotina definida para partic...</td>\n",
       "      <td>...</td>\n",
       "      <td>Sim</td>\n",
       "      <td>Sim</td>\n",
       "      <td>5</td>\n",
       "      <td>Entre 1 e 2 salários mínimos (R$1.100 – R$2.200)</td>\n",
       "      <td>Instagram</td>\n",
       "      <td>Noite</td>\n",
       "      <td>15/09/2022</td>\n",
       "      <td>3.0</td>\n",
       "      <td>123</td>\n",
       "      <td>0</td>\n",
       "    </tr>\n",
       "    <tr>\n",
       "      <th>4</th>\n",
       "      <td>5</td>\n",
       "      <td>19</td>\n",
       "      <td>public</td>\n",
       "      <td>Ensino Médio concluído e não estudando</td>\n",
       "      <td>RJ</td>\n",
       "      <td>Rio de Janeiro</td>\n",
       "      <td>Não</td>\n",
       "      <td>Não</td>\n",
       "      <td>Sim e fiz parcialmente pelo computador e parci...</td>\n",
       "      <td>Não sei dizer</td>\n",
       "      <td>...</td>\n",
       "      <td>Sim</td>\n",
       "      <td>Sim</td>\n",
       "      <td>3</td>\n",
       "      <td>Entre 1 e 2 salários mínimos (R$1.100 – R$2.200)</td>\n",
       "      <td>Divulgação do iFood</td>\n",
       "      <td>Já concluí</td>\n",
       "      <td>15/09/2022</td>\n",
       "      <td>0.0</td>\n",
       "      <td>123</td>\n",
       "      <td>0</td>\n",
       "    </tr>\n",
       "    <tr>\n",
       "      <th>...</th>\n",
       "      <td>...</td>\n",
       "      <td>...</td>\n",
       "      <td>...</td>\n",
       "      <td>...</td>\n",
       "      <td>...</td>\n",
       "      <td>...</td>\n",
       "      <td>...</td>\n",
       "      <td>...</td>\n",
       "      <td>...</td>\n",
       "      <td>...</td>\n",
       "      <td>...</td>\n",
       "      <td>...</td>\n",
       "      <td>...</td>\n",
       "      <td>...</td>\n",
       "      <td>...</td>\n",
       "      <td>...</td>\n",
       "      <td>...</td>\n",
       "      <td>...</td>\n",
       "      <td>...</td>\n",
       "      <td>...</td>\n",
       "      <td>...</td>\n",
       "    </tr>\n",
       "    <tr>\n",
       "      <th>3733</th>\n",
       "      <td>5351</td>\n",
       "      <td>17</td>\n",
       "      <td>public</td>\n",
       "      <td>Cursando o 3º ano do Ensino Médio</td>\n",
       "      <td>SP</td>\n",
       "      <td>São Paulo</td>\n",
       "      <td>Não</td>\n",
       "      <td>Sim</td>\n",
       "      <td>SIm e fiz totalmente pelo celular</td>\n",
       "      <td>Muito eu tenho uma rotina definida para partic...</td>\n",
       "      <td>...</td>\n",
       "      <td>Sim</td>\n",
       "      <td>Sim</td>\n",
       "      <td>4</td>\n",
       "      <td>Até 1 salário mínimo (até R$1.100)</td>\n",
       "      <td>Site de notícias</td>\n",
       "      <td>Noite</td>\n",
       "      <td>18/12/2022</td>\n",
       "      <td>0.0</td>\n",
       "      <td>29</td>\n",
       "      <td>1</td>\n",
       "    </tr>\n",
       "    <tr>\n",
       "      <th>3734</th>\n",
       "      <td>5353</td>\n",
       "      <td>19</td>\n",
       "      <td>public</td>\n",
       "      <td>Cursando o 3º ano do Ensino Médio</td>\n",
       "      <td>RJ</td>\n",
       "      <td>Queimados</td>\n",
       "      <td>Não</td>\n",
       "      <td>Não</td>\n",
       "      <td>Ainda não concluí um curso a distância</td>\n",
       "      <td>Muito eu tenho uma rotina definida para partic...</td>\n",
       "      <td>...</td>\n",
       "      <td>Sim</td>\n",
       "      <td>Sim</td>\n",
       "      <td>3</td>\n",
       "      <td>Até 1 salário mínimo (até R$1.100)</td>\n",
       "      <td>Instagram</td>\n",
       "      <td>Já concluí</td>\n",
       "      <td>18/12/2022</td>\n",
       "      <td>0.0</td>\n",
       "      <td>29</td>\n",
       "      <td>0</td>\n",
       "    </tr>\n",
       "    <tr>\n",
       "      <th>3735</th>\n",
       "      <td>5354</td>\n",
       "      <td>18</td>\n",
       "      <td>public</td>\n",
       "      <td>Cursando o 3º ano do Ensino Médio</td>\n",
       "      <td>SP</td>\n",
       "      <td>São Paulo</td>\n",
       "      <td>Não</td>\n",
       "      <td>Não</td>\n",
       "      <td>Nunca realizei um curso a distância</td>\n",
       "      <td>Muito eu tenho uma rotina definida para partic...</td>\n",
       "      <td>...</td>\n",
       "      <td>Sim</td>\n",
       "      <td>Sim</td>\n",
       "      <td>3</td>\n",
       "      <td>Entre 1 e 2 salários mínimos (R$1.100 – R$2.200)</td>\n",
       "      <td>Instagram</td>\n",
       "      <td>Já concluí</td>\n",
       "      <td>18/12/2022</td>\n",
       "      <td>0.0</td>\n",
       "      <td>29</td>\n",
       "      <td>1</td>\n",
       "    </tr>\n",
       "    <tr>\n",
       "      <th>3736</th>\n",
       "      <td>5355</td>\n",
       "      <td>18</td>\n",
       "      <td>public</td>\n",
       "      <td>Ensino Médio concluído e não estudando</td>\n",
       "      <td>SP</td>\n",
       "      <td>São Paulo</td>\n",
       "      <td>Não</td>\n",
       "      <td>Não</td>\n",
       "      <td>Nunca realizei um curso a distância</td>\n",
       "      <td>Não sei dizer</td>\n",
       "      <td>...</td>\n",
       "      <td>Sim</td>\n",
       "      <td>Sim</td>\n",
       "      <td>5</td>\n",
       "      <td>Entre 1 e 2 salários mínimos (R$1.100 – R$2.200)</td>\n",
       "      <td>Instagram</td>\n",
       "      <td>Já concluí</td>\n",
       "      <td>18/12/2022</td>\n",
       "      <td>0.0</td>\n",
       "      <td>29</td>\n",
       "      <td>0</td>\n",
       "    </tr>\n",
       "    <tr>\n",
       "      <th>3737</th>\n",
       "      <td>5356</td>\n",
       "      <td>22</td>\n",
       "      <td>public</td>\n",
       "      <td>Cursando o 3º ano do Ensino Médio</td>\n",
       "      <td>SP</td>\n",
       "      <td>São Paulo</td>\n",
       "      <td>Não</td>\n",
       "      <td>Não</td>\n",
       "      <td>Nunca realizei um curso a distância</td>\n",
       "      <td>Eu prefiro cursos presenciais</td>\n",
       "      <td>...</td>\n",
       "      <td>Sim</td>\n",
       "      <td>Sim</td>\n",
       "      <td>4</td>\n",
       "      <td>Entre 3 e 4 salários mínimos (R$3.300 – R$4.400)</td>\n",
       "      <td>Facebook</td>\n",
       "      <td>Já concluí</td>\n",
       "      <td>18/12/2022</td>\n",
       "      <td>0.0</td>\n",
       "      <td>29</td>\n",
       "      <td>1</td>\n",
       "    </tr>\n",
       "  </tbody>\n",
       "</table>\n",
       "<p>3716 rows × 21 columns</p>\n",
       "</div>"
      ],
      "text/plain": [
       "      ID_Aluno  Idade Tipo_escola                            Escolaridade  \\\n",
       "0            1     19      public       Cursando o 3º ano do Ensino Médio   \n",
       "1            2     21      public       Cursando o 3º ano do Ensino Médio   \n",
       "2            3     17      public       Cursando o 3º ano do Ensino Médio   \n",
       "3            4     18      public  Ensino Médio concluído e não estudando   \n",
       "4            5     19      public  Ensino Médio concluído e não estudando   \n",
       "...        ...    ...         ...                                     ...   \n",
       "3733      5351     17      public       Cursando o 3º ano do Ensino Médio   \n",
       "3734      5353     19      public       Cursando o 3º ano do Ensino Médio   \n",
       "3735      5354     18      public       Cursando o 3º ano do Ensino Médio   \n",
       "3736      5355     18      public  Ensino Médio concluído e não estudando   \n",
       "3737      5356     22      public       Cursando o 3º ano do Ensino Médio   \n",
       "\n",
       "     Estado       Municipio Trabalhando Estudando  \\\n",
       "0        SP       São Paulo         Não       Sim   \n",
       "1        RJ  Rio de Janeiro         Não       Não   \n",
       "2        SP       São Paulo         Não       Sim   \n",
       "3        SP          Osasco         Não       Sim   \n",
       "4        RJ  Rio de Janeiro         Não       Não   \n",
       "...     ...             ...         ...       ...   \n",
       "3733     SP       São Paulo         Não       Sim   \n",
       "3734     RJ       Queimados         Não       Não   \n",
       "3735     SP       São Paulo         Não       Não   \n",
       "3736     SP       São Paulo         Não       Não   \n",
       "3737     SP       São Paulo         Não       Não   \n",
       "\n",
       "                                           Concluiu_EAD  \\\n",
       "0                     SIm e fiz totalmente pelo celular   \n",
       "1                Ainda não concluí um curso a distância   \n",
       "2                   Nunca realizei um curso a distância   \n",
       "3     Sim e fiz parcialmente pelo computador e parci...   \n",
       "4     Sim e fiz parcialmente pelo computador e parci...   \n",
       "...                                                 ...   \n",
       "3733                  SIm e fiz totalmente pelo celular   \n",
       "3734             Ainda não concluí um curso a distância   \n",
       "3735                Nunca realizei um curso a distância   \n",
       "3736                Nunca realizei um curso a distância   \n",
       "3737                Nunca realizei um curso a distância   \n",
       "\n",
       "                                           Aprender_EAD  ...  \\\n",
       "0     Muito eu tenho uma rotina definida para partic...  ...   \n",
       "1                         Eu prefiro cursos presenciais  ...   \n",
       "2     Muito eu tenho uma rotina definida para partic...  ...   \n",
       "3     Muito eu tenho uma rotina definida para partic...  ...   \n",
       "4                                         Não sei dizer  ...   \n",
       "...                                                 ...  ...   \n",
       "3733  Muito eu tenho uma rotina definida para partic...  ...   \n",
       "3734  Muito eu tenho uma rotina definida para partic...  ...   \n",
       "3735  Muito eu tenho uma rotina definida para partic...  ...   \n",
       "3736                                      Não sei dizer  ...   \n",
       "3737                      Eu prefiro cursos presenciais  ...   \n",
       "\n",
       "     Disponibilidade_Tutoria Disponibilidade_3_Meses Pessoas_Casa  \\\n",
       "0                        Sim                     Sim            7   \n",
       "1                        Sim                     Sim            3   \n",
       "2                        Sim                     Sim            3   \n",
       "3                        Sim                     Sim            5   \n",
       "4                        Sim                     Sim            3   \n",
       "...                      ...                     ...          ...   \n",
       "3733                     Sim                     Sim            4   \n",
       "3734                     Sim                     Sim            3   \n",
       "3735                     Sim                     Sim            3   \n",
       "3736                     Sim                     Sim            5   \n",
       "3737                     Sim                     Sim            4   \n",
       "\n",
       "                                        Renda_Familiar          Conheceu_PROA  \\\n",
       "0     Entre 2 e 3 salários mínimos (R$2.200 – R$3.300)               LinkedIn   \n",
       "1     Entre 1 e 2 salários mínimos (R$1.100 – R$2.200)     Junior Achievement   \n",
       "2                   Até 1 salário mínimo (até R$1.100)  Indicação de familiar   \n",
       "3     Entre 1 e 2 salários mínimos (R$1.100 – R$2.200)              Instagram   \n",
       "4     Entre 1 e 2 salários mínimos (R$1.100 – R$2.200)    Divulgação do iFood   \n",
       "...                                                ...                    ...   \n",
       "3733                Até 1 salário mínimo (até R$1.100)       Site de notícias   \n",
       "3734                Até 1 salário mínimo (até R$1.100)              Instagram   \n",
       "3735  Entre 1 e 2 salários mínimos (R$1.100 – R$2.200)              Instagram   \n",
       "3736  Entre 1 e 2 salários mínimos (R$1.100 – R$2.200)              Instagram   \n",
       "3737  Entre 3 e 4 salários mínimos (R$3.300 – R$4.400)               Facebook   \n",
       "\n",
       "     Horario_Estudando Data_Inscrição Dias_Espera_Aprovacao  \\\n",
       "0                Noite     15/09/2022                   0.0   \n",
       "1                Manhã     15/09/2022                   1.0   \n",
       "2                Manhã     15/09/2022                   1.0   \n",
       "3                Noite     15/09/2022                   3.0   \n",
       "4           Já concluí     15/09/2022                   0.0   \n",
       "...                ...            ...                   ...   \n",
       "3733             Noite     18/12/2022                   0.0   \n",
       "3734        Já concluí     18/12/2022                   0.0   \n",
       "3735        Já concluí     18/12/2022                   0.0   \n",
       "3736        Já concluí     18/12/2022                   0.0   \n",
       "3737        Já concluí     18/12/2022                   0.0   \n",
       "\n",
       "      Dias_Espera_Inicio  Abandono_curso  \n",
       "0                    123               1  \n",
       "1                    123               0  \n",
       "2                    123               0  \n",
       "3                    123               0  \n",
       "4                    123               0  \n",
       "...                  ...             ...  \n",
       "3733                  29               1  \n",
       "3734                  29               0  \n",
       "3735                  29               1  \n",
       "3736                  29               0  \n",
       "3737                  29               1  \n",
       "\n",
       "[3716 rows x 21 columns]"
      ]
     },
     "execution_count": 75,
     "metadata": {},
     "output_type": "execute_result"
    }
   ],
   "source": [
    "df.isnull().sum()\n",
    "df.dropna()"
   ]
  },
  {
   "cell_type": "markdown",
   "metadata": {},
   "source": [
    "# Pré-processamento"
   ]
  },
  {
   "cell_type": "markdown",
   "metadata": {},
   "source": [
    "### Excluindo colunas desnecessárias para o modelo"
   ]
  },
  {
   "cell_type": "code",
   "execution_count": 76,
   "metadata": {},
   "outputs": [],
   "source": [
    "df.drop(['ID_Aluno'], inplace=True, axis=1)"
   ]
  },
  {
   "cell_type": "code",
   "execution_count": 77,
   "metadata": {},
   "outputs": [
    {
     "data": {
      "text/plain": [
       "Index(['Idade', 'Tipo_escola', 'Escolaridade', 'Estado', 'Municipio',\n",
       "       'Trabalhando', 'Estudando', 'Concluiu_EAD', 'Aprender_EAD', 'Recursos',\n",
       "       'Disponibilidade_Tutoria', 'Disponibilidade_3_Meses', 'Pessoas_Casa',\n",
       "       'Renda_Familiar', 'Conheceu_PROA', 'Horario_Estudando',\n",
       "       'Data_Inscrição', 'Dias_Espera_Aprovacao', 'Dias_Espera_Inicio',\n",
       "       'Abandono_curso'],\n",
       "      dtype='object')"
      ]
     },
     "execution_count": 77,
     "metadata": {},
     "output_type": "execute_result"
    }
   ],
   "source": [
    "df.columns"
   ]
  },
  {
   "cell_type": "code",
   "execution_count": 79,
   "metadata": {},
   "outputs": [],
   "source": [
    "df.drop(['Conheceu_PROA','Data_Inscrição','Dias_Espera_Aprovacao', 'Dias_Espera_Inicio','Idade','Municipio'], axis=1,inplace=True)"
   ]
  },
  {
   "cell_type": "markdown",
   "metadata": {},
   "source": [
    "### Lidando com categorias de alta cardinalidade"
   ]
  },
  {
   "cell_type": "markdown",
   "metadata": {},
   "source": [
    "#### Variável 'Municipio'"
   ]
  },
  {
   "cell_type": "code",
   "execution_count": 6,
   "metadata": {},
   "outputs": [],
   "source": [
    "df['capital'] = df['Municipio'].apply(lambda x: 1 if x in ['São Paulo', 'Rio de Janeiro', 'Porto Alegre', 'Florianópolis'] else 0)"
   ]
  },
  {
   "cell_type": "code",
   "execution_count": 7,
   "metadata": {},
   "outputs": [],
   "source": [
    "df.drop(['Municipio'], inplace=True, axis=1)"
   ]
  },
  {
   "cell_type": "markdown",
   "metadata": {},
   "source": [
    "#### Variável 'Recursos'"
   ]
  },
  {
   "cell_type": "code",
   "execution_count": 81,
   "metadata": {},
   "outputs": [],
   "source": [
    "def categorizar_recurso(row):\n",
    "    categorias = []\n",
    "    if isinstance(row, str):\n",
    "        if 'Computador' in row:\n",
    "            categorias.append('Computador')\n",
    "        if 'Celular próprio' in row or 'Tablet próprio' in row:\n",
    "            categorias.append('Móvel Próprio')\n",
    "        if 'Celular compartilhado' in row or 'Tablet compartilhado' in row:\n",
    "            categorias.append('Móvel Compartilhado')\n",
    "        if 'Internet wifi' in row:\n",
    "            categorias.append('Wifi')\n",
    "        if 'Internet 4G' in row:\n",
    "            categorias.append('4G')\n",
    "    if not categorias:\n",
    "        categorias.append('Outro')\n",
    "        \n",
    "    string_final = \", \".join(categorias)\n",
    "    return string_final\n",
    "\n",
    "\n",
    "df['categoria_recurso'] = df['Recursos'].apply(categorizar_recurso)\n",
    "\n",
    "# Lista das categorias de recursos\n",
    "categorias = ['Computador', 'Móvel Próprio', 'Móvel Compartilhado', '4G', 'Wifi']\n",
    "for categoria in categorias:\n",
    "    df[categoria] = df['categoria_recurso'].str.contains(categoria).astype(int)"
   ]
  },
  {
   "cell_type": "code",
   "execution_count": 82,
   "metadata": {},
   "outputs": [],
   "source": [
    "df.drop(['Recursos', 'categoria_recurso'], inplace=True, axis=1)"
   ]
  },
  {
   "cell_type": "markdown",
   "metadata": {},
   "source": [
    "#### Variável 'Conheceu_PROA'"
   ]
  },
  {
   "cell_type": "code",
   "execution_count": 10,
   "metadata": {},
   "outputs": [],
   "source": [
    "# Função para categorizar os recursos\n",
    "def categorizar_proa(row):\n",
    "    categorias_proa = []\n",
    "    if isinstance(row, str):\n",
    "        if 'LinkedIn' in  row or 'Instagram' in row or 'Facebook' in row or 'Google' in row :\n",
    "            categorias_proa.append('Redes_sociais')\n",
    "        elif  'Divulgação do iFood'in row or 'Programa de televisão'in row or 'Site de notícias' in row or 'No metrô, elevador ou ponto de ônibus'  in row or'Cartaz ou folheto' in row or'Influenciador' in row or'Telecentro' :\n",
    "            categorias_proa.append('Propaganda')\n",
    "        elif 'Divulgação na escola' in row or 'ETEC ou cursos do Centro Paula Souza' in row or 'Junior Achievement' in row or 'Instituto Cyrela' in row or 'Divulgação da Fundação Casas Bahia' in row or 'Akiposso+' in  row or  'Centro Paula Souza - Novotec' in row :\n",
    "            categorias_proa.append('Anuncio_CE')\n",
    "        elif 'Indicação de familiar' in row or 'Indicação de ex-aluno do PROA ou atual' in row:\n",
    "            categorias_proa.append('indicacao')\n",
    "    if not categorias_proa:\n",
    "        categorias_proa.append('Outro')\n",
    "    string_final = \", \".join(categorias_proa)\n",
    "    return string_final\n",
    "\n",
    "# Aplicando a função à coluna 'recurso' e criando a nova coluna 'categoria_recurso'\n",
    "df['categoria_PROA'] = df['Conheceu_PROA'].apply(categorizar_proa)\n",
    "\n",
    "categorias = ['Redes_sociais', 'Propaganda', 'Anuncio_CE', 'indicacao', 'Outro']\n",
    "for categoria in categorias:\n",
    "    df[categoria] = df['categoria_PROA'].str.contains(categoria).astype(int)"
   ]
  },
  {
   "cell_type": "code",
   "execution_count": 11,
   "metadata": {},
   "outputs": [],
   "source": [
    "df.drop(['Conheceu_PROA','categoria_PROA'], inplace = True, axis = 1)"
   ]
  },
  {
   "cell_type": "markdown",
   "metadata": {},
   "source": [
    "### Codificando variáveis categóricas"
   ]
  },
  {
   "cell_type": "code",
   "execution_count": 83,
   "metadata": {},
   "outputs": [
    {
     "data": {
      "text/plain": [
       "array(['Sim', 'Não', nan], dtype=object)"
      ]
     },
     "execution_count": 83,
     "metadata": {},
     "output_type": "execute_result"
    }
   ],
   "source": [
    "df['Estudando'].unique()"
   ]
  },
  {
   "cell_type": "code",
   "execution_count": 84,
   "metadata": {},
   "outputs": [],
   "source": [
    "\n",
    "df['Trabalha_Estuda'] = (df['Trabalhando'] == 'Sim') & (df['Estudando'] == 'Sim')\n",
    "df['Trabalha_Estuda'] = df['Trabalha_Estuda'].astype(int)\n"
   ]
  },
  {
   "cell_type": "code",
   "execution_count": 85,
   "metadata": {},
   "outputs": [],
   "source": [
    "df['Trabalha_meses'] = (df['Trabalhando'] == 'Sim') & (df['Disponibilidade_3_Meses'] == 'Sim')\n",
    "df['Trabalha_meses'] = df['Trabalha_meses'].astype(int)"
   ]
  },
  {
   "cell_type": "code",
   "execution_count": 86,
   "metadata": {},
   "outputs": [
    {
     "data": {
      "text/plain": [
       "0    3642\n",
       "1      96\n",
       "Name: Trabalha_Estuda, dtype: int64"
      ]
     },
     "execution_count": 86,
     "metadata": {},
     "output_type": "execute_result"
    }
   ],
   "source": [
    "df['Trabalha_Estuda'].value_counts()"
   ]
  },
  {
   "cell_type": "code",
   "execution_count": 87,
   "metadata": {},
   "outputs": [],
   "source": [
    "# Substituir os valores na coluna 'Concluiu_EAD'\n",
    "df['Concluiu_EAD'] = df['Concluiu_EAD'].apply(lambda x: 1 if x in ['SIm e fiz totalmente pelo celular',\n",
    "                                                                   'Sim e fiz parcialmente pelo computador e parcialmente pelo celular',\n",
    "                                                                   'Sim e fiz totalmente pelo computador'] else 0)\n",
    "\n"
   ]
  },
  {
   "cell_type": "code",
   "execution_count": 88,
   "metadata": {},
   "outputs": [
    {
     "data": {
      "text/plain": [
       "0    2022\n",
       "1    1716\n",
       "Name: Concluiu_EAD, dtype: int64"
      ]
     },
     "execution_count": 88,
     "metadata": {},
     "output_type": "execute_result"
    }
   ],
   "source": [
    "df['Concluiu_EAD'].value_counts()"
   ]
  },
  {
   "cell_type": "code",
   "execution_count": 89,
   "metadata": {},
   "outputs": [
    {
     "data": {
      "text/plain": [
       "Sim    3711\n",
       "Não      27\n",
       "Name: Disponibilidade_Tutoria, dtype: int64"
      ]
     },
     "execution_count": 89,
     "metadata": {},
     "output_type": "execute_result"
    }
   ],
   "source": [
    "df['Disponibilidade_Tutoria'].value_counts()"
   ]
  },
  {
   "cell_type": "code",
   "execution_count": 90,
   "metadata": {},
   "outputs": [],
   "source": [
    "# Criação da nova coluna 'Disponivel'\n",
    "df['Disponivel'] = (df['Disponibilidade_3_Meses'] == 'Sim') & (df['Disponibilidade_Tutoria'] == 'Sim')\n",
    "df['Disponivel'] = df['Disponivel'].astype(int)\n"
   ]
  },
  {
   "cell_type": "code",
   "execution_count": 20,
   "metadata": {},
   "outputs": [
    {
     "data": {
      "text/plain": [
       "1    3707\n",
       "0      31\n",
       "Name: Disponivel, dtype: int64"
      ]
     },
     "execution_count": 20,
     "metadata": {},
     "output_type": "execute_result"
    }
   ],
   "source": [
    "df['Disponivel'].value_counts()"
   ]
  },
  {
   "cell_type": "code",
   "execution_count": 91,
   "metadata": {},
   "outputs": [],
   "source": [
    "def num_renda_familiar(row):\n",
    "    categorias = []\n",
    "    if isinstance(row, str):\n",
    "        if '(R$2.200 – R$3.300)' in row:\n",
    "            categorias.append('2750')\n",
    "        elif '(R$1.100 – R$2.200)' in row:\n",
    "            categorias.append('1650')\n",
    "        elif '(até R$1.100)' in row:\n",
    "            categorias.append('1000')\n",
    "        elif '(mais que R$5.500)' in row:\n",
    "            categorias.append('7000')\n",
    "        elif '(R$3.300 – R$4.400)' in row:\n",
    "            categorias.append('3850')\n",
    "        elif '(R$4.400 – R$5.500)' in row:\n",
    "            categorias.append('5000')\n",
    "\n",
    "\n",
    "    string_final = \", \".join(categorias)\n",
    "    return string_final\n",
    "\n",
    "df['Pessoas_Casa'].replace('Mais que 10', 11, inplace=True)\n",
    "\n",
    "df['renda_percapita'] = df['Renda_Familiar'].apply(num_renda_familiar).astype(int)\n",
    "df['renda_percapita'] = df['renda_percapita'] / df['Pessoas_Casa'].astype(int)"
   ]
  },
  {
   "cell_type": "markdown",
   "metadata": {},
   "source": [
    "#### Variável 'Pessoas_casa'"
   ]
  },
  {
   "cell_type": "code",
   "execution_count": 92,
   "metadata": {},
   "outputs": [],
   "source": [
    "# Suponha que 'df' seja o seu DataFrame\n",
    "import numpy as np\n",
    "# Substituir 'Mais que 10' por um valor numérico (por exemplo, 11)\n",
    "df['Pessoas_Casa'] = df['Pessoas_Casa'].replace('Mais que 10', 11)\n",
    "\n",
    "# Definir os limites dos intervalos\n",
    "limites = [1, 3, 5, 7, np.inf]  # Define os intervalos como [1-3], [4-6], [7-10-6], [10-Inf]\n",
    "# Definir os rótulos para os intervalos\n",
    "rotulos = ['Pessoas_Casa_1-3', 'Pessoas_Casa_4-6', 'Pessoas_Casa_7-10', 'Pessoas_Casa_Mais_que_10']\n",
    "\n",
    "# Usar a função cut para discretizar a coluna\n",
    "df['Faixa_Pessoas_Casa'] = pd.cut(df['Pessoas_Casa'].astype(float), bins=limites, labels=rotulos, include_lowest=True, right=True)"
   ]
  },
  {
   "cell_type": "code",
   "execution_count": 93,
   "metadata": {},
   "outputs": [],
   "source": [
    "df.drop(['Pessoas_Casa'], inplace=True, axis=1)"
   ]
  },
  {
   "cell_type": "code",
   "execution_count": 24,
   "metadata": {},
   "outputs": [],
   "source": [
    "\n",
    "df.drop(['Data_Inscrição'], inplace=True, axis=1)\n",
    "df.drop(['Dias_Espera_Aprovacao'], inplace=True, axis=1)"
   ]
  },
  {
   "cell_type": "markdown",
   "metadata": {},
   "source": [
    "#### Variável 'Dias_Espera_Aprovação'"
   ]
  },
  {
   "cell_type": "markdown",
   "metadata": {},
   "source": [
    "#### Variável 'Dias_Espera_Inicio'"
   ]
  },
  {
   "cell_type": "code",
   "execution_count": 25,
   "metadata": {},
   "outputs": [
    {
     "data": {
      "text/plain": [
       "<AxesSubplot:xlabel='Dias_Espera_Inicio', ylabel='Count'>"
      ]
     },
     "execution_count": 25,
     "metadata": {},
     "output_type": "execute_result"
    },
    {
     "data": {
      "image/png": "[encoded data removed]",
      "text/plain": [
       "<Figure size 640x480 with 1 Axes>"
      ]
     },
     "metadata": {},
     "output_type": "display_data"
    }
   ],
   "source": [
    "sns.histplot(data=df, x='Dias_Espera_Inicio', bins=50, kde=True)"
   ]
  },
  {
   "cell_type": "code",
   "execution_count": 26,
   "metadata": {},
   "outputs": [],
   "source": [
    "def categorizar_dias_espera_inicio(dias):\n",
    "    if 0 <= dias < 40:\n",
    "        return 'dias_espera_inicio_0-40'\n",
    "    elif 40 <= dias < 60:\n",
    "        return 'dias_espera_inicio_40-60'\n",
    "    elif 60 <= dias < 80:\n",
    "        return 'dias_espera_inicio_60-80'\n",
    "    elif 80 <= dias < 100:\n",
    "        return 'dias_espera_inicio_80-100'\n",
    "    else:\n",
    "        return 'dias_espera_inicio_100+'\n",
    "\n",
    "# Aplicando a função à coluna 'Dias_Espera_Aprovacao' e criando a nova coluna 'categoria_dias_espera'\n",
    "df['categoria_dias_espera_inicio'] = df['Dias_Espera_Inicio'].apply(categorizar_dias_espera_inicio)\n",
    "\n",
    "# Criando colunas para cada categoria\n",
    "categorias_dias = [\n",
    "    'dias_espera_inicio_0-40',\n",
    "    'dias_espera_inicio_40-60',\n",
    "    'dias_espera_inicio_60-80',\n",
    "    'dias_espera_inicio_80-100',\n",
    "    'dias_espera_inicio_100+'\n",
    "]\n",
    "\n",
    "for categoria in categorias_dias:\n",
    "    df[categoria] = df['categoria_dias_espera_inicio'].apply(lambda x: 1 if x == categoria else 0)"
   ]
  },
  {
   "cell_type": "code",
   "execution_count": 27,
   "metadata": {},
   "outputs": [],
   "source": [
    "df.drop(['categoria_dias_espera_inicio', 'Dias_Espera_Inicio'], inplace=True, axis=1)"
   ]
  },
  {
   "cell_type": "code",
   "execution_count": 94,
   "metadata": {},
   "outputs": [
    {
     "data": {
      "text/plain": [
       "Index(['Tipo_escola', 'Escolaridade', 'Estado', 'Trabalhando', 'Estudando',\n",
       "       'Concluiu_EAD', 'Aprender_EAD', 'Disponibilidade_Tutoria',\n",
       "       'Disponibilidade_3_Meses', 'Renda_Familiar', 'Horario_Estudando',\n",
       "       'Abandono_curso', 'Computador', 'Móvel Próprio', 'Móvel Compartilhado',\n",
       "       '4G', 'Wifi', 'Trabalha_Estuda', 'Trabalha_meses', 'Disponivel',\n",
       "       'renda_percapita', 'Faixa_Pessoas_Casa'],\n",
       "      dtype='object')"
      ]
     },
     "execution_count": 94,
     "metadata": {},
     "output_type": "execute_result"
    }
   ],
   "source": [
    "df.columns"
   ]
  },
  {
   "cell_type": "code",
   "execution_count": null,
   "metadata": {},
   "outputs": [],
   "source": []
  },
  {
   "cell_type": "markdown",
   "metadata": {},
   "source": [
    "# Aplicando one-Hot Encoding"
   ]
  },
  {
   "cell_type": "code",
   "execution_count": 95,
   "metadata": {},
   "outputs": [],
   "source": [
    "df['Disponibilidade_3_Meses'].replace('Sim', 1, inplace=True)\n",
    "df['Disponibilidade_3_Meses'].replace('Não', 0, inplace=True)"
   ]
  },
  {
   "cell_type": "code",
   "execution_count": 96,
   "metadata": {},
   "outputs": [
    {
     "data": {
      "text/html": [
       "<div>\n",
       "<style scoped>\n",
       "    .dataframe tbody tr th:only-of-type {\n",
       "        vertical-align: middle;\n",
       "    }\n",
       "\n",
       "    .dataframe tbody tr th {\n",
       "        vertical-align: top;\n",
       "    }\n",
       "\n",
       "    .dataframe thead th {\n",
       "        text-align: right;\n",
       "    }\n",
       "</style>\n",
       "<table border=\"1\" class=\"dataframe\">\n",
       "  <thead>\n",
       "    <tr style=\"text-align: right;\">\n",
       "      <th></th>\n",
       "      <th>Disponibilidade_3_Meses</th>\n",
       "      <th>Abandono_curso</th>\n",
       "      <th>Computador</th>\n",
       "      <th>Móvel Próprio</th>\n",
       "      <th>Móvel Compartilhado</th>\n",
       "      <th>4G</th>\n",
       "      <th>Wifi</th>\n",
       "      <th>Trabalha_Estuda</th>\n",
       "      <th>Trabalha_meses</th>\n",
       "      <th>Disponivel</th>\n",
       "      <th>...</th>\n",
       "      <th>Renda_Familiar_Entre 3 e 4 salários mínimos (R$3.300 – R$4.400)</th>\n",
       "      <th>Renda_Familiar_Entre 4 e 5 salários mínimos (R$4.400 – R$5.500)</th>\n",
       "      <th>Renda_Familiar_Mais que 5 salários mínimos (mais que R$5.500)</th>\n",
       "      <th>Horario_Estudando_Já concluí</th>\n",
       "      <th>Horario_Estudando_Manhã</th>\n",
       "      <th>Horario_Estudando_Noite</th>\n",
       "      <th>Horario_Estudando_Tarde</th>\n",
       "      <th>Faixa_Pessoas_Casa_Pessoas_Casa_4-6</th>\n",
       "      <th>Faixa_Pessoas_Casa_Pessoas_Casa_7-10</th>\n",
       "      <th>Faixa_Pessoas_Casa_Pessoas_Casa_Mais_que_10</th>\n",
       "    </tr>\n",
       "  </thead>\n",
       "  <tbody>\n",
       "    <tr>\n",
       "      <th>0</th>\n",
       "      <td>1</td>\n",
       "      <td>1</td>\n",
       "      <td>1</td>\n",
       "      <td>1</td>\n",
       "      <td>0</td>\n",
       "      <td>1</td>\n",
       "      <td>1</td>\n",
       "      <td>0</td>\n",
       "      <td>0</td>\n",
       "      <td>1</td>\n",
       "      <td>...</td>\n",
       "      <td>0</td>\n",
       "      <td>0</td>\n",
       "      <td>0</td>\n",
       "      <td>0</td>\n",
       "      <td>0</td>\n",
       "      <td>1</td>\n",
       "      <td>0</td>\n",
       "      <td>0</td>\n",
       "      <td>1</td>\n",
       "      <td>0</td>\n",
       "    </tr>\n",
       "    <tr>\n",
       "      <th>1</th>\n",
       "      <td>1</td>\n",
       "      <td>0</td>\n",
       "      <td>1</td>\n",
       "      <td>0</td>\n",
       "      <td>0</td>\n",
       "      <td>0</td>\n",
       "      <td>0</td>\n",
       "      <td>0</td>\n",
       "      <td>0</td>\n",
       "      <td>1</td>\n",
       "      <td>...</td>\n",
       "      <td>0</td>\n",
       "      <td>0</td>\n",
       "      <td>0</td>\n",
       "      <td>0</td>\n",
       "      <td>1</td>\n",
       "      <td>0</td>\n",
       "      <td>0</td>\n",
       "      <td>0</td>\n",
       "      <td>0</td>\n",
       "      <td>0</td>\n",
       "    </tr>\n",
       "    <tr>\n",
       "      <th>2</th>\n",
       "      <td>1</td>\n",
       "      <td>0</td>\n",
       "      <td>0</td>\n",
       "      <td>1</td>\n",
       "      <td>0</td>\n",
       "      <td>0</td>\n",
       "      <td>1</td>\n",
       "      <td>0</td>\n",
       "      <td>0</td>\n",
       "      <td>1</td>\n",
       "      <td>...</td>\n",
       "      <td>0</td>\n",
       "      <td>0</td>\n",
       "      <td>0</td>\n",
       "      <td>0</td>\n",
       "      <td>1</td>\n",
       "      <td>0</td>\n",
       "      <td>0</td>\n",
       "      <td>0</td>\n",
       "      <td>0</td>\n",
       "      <td>0</td>\n",
       "    </tr>\n",
       "    <tr>\n",
       "      <th>3</th>\n",
       "      <td>1</td>\n",
       "      <td>0</td>\n",
       "      <td>1</td>\n",
       "      <td>1</td>\n",
       "      <td>0</td>\n",
       "      <td>1</td>\n",
       "      <td>1</td>\n",
       "      <td>0</td>\n",
       "      <td>0</td>\n",
       "      <td>1</td>\n",
       "      <td>...</td>\n",
       "      <td>0</td>\n",
       "      <td>0</td>\n",
       "      <td>0</td>\n",
       "      <td>0</td>\n",
       "      <td>0</td>\n",
       "      <td>1</td>\n",
       "      <td>0</td>\n",
       "      <td>1</td>\n",
       "      <td>0</td>\n",
       "      <td>0</td>\n",
       "    </tr>\n",
       "    <tr>\n",
       "      <th>4</th>\n",
       "      <td>1</td>\n",
       "      <td>0</td>\n",
       "      <td>1</td>\n",
       "      <td>1</td>\n",
       "      <td>0</td>\n",
       "      <td>1</td>\n",
       "      <td>1</td>\n",
       "      <td>0</td>\n",
       "      <td>0</td>\n",
       "      <td>1</td>\n",
       "      <td>...</td>\n",
       "      <td>0</td>\n",
       "      <td>0</td>\n",
       "      <td>0</td>\n",
       "      <td>1</td>\n",
       "      <td>0</td>\n",
       "      <td>0</td>\n",
       "      <td>0</td>\n",
       "      <td>0</td>\n",
       "      <td>0</td>\n",
       "      <td>0</td>\n",
       "    </tr>\n",
       "  </tbody>\n",
       "</table>\n",
       "<p>5 rows × 38 columns</p>\n",
       "</div>"
      ],
      "text/plain": [
       "   Disponibilidade_3_Meses  Abandono_curso  Computador  Móvel Próprio  \\\n",
       "0                        1               1           1              1   \n",
       "1                        1               0           1              0   \n",
       "2                        1               0           0              1   \n",
       "3                        1               0           1              1   \n",
       "4                        1               0           1              1   \n",
       "\n",
       "   Móvel Compartilhado  4G  Wifi  Trabalha_Estuda  Trabalha_meses  Disponivel  \\\n",
       "0                    0   1     1                0               0           1   \n",
       "1                    0   0     0                0               0           1   \n",
       "2                    0   0     1                0               0           1   \n",
       "3                    0   1     1                0               0           1   \n",
       "4                    0   1     1                0               0           1   \n",
       "\n",
       "   ...  Renda_Familiar_Entre 3 e 4 salários mínimos (R$3.300 – R$4.400)  \\\n",
       "0  ...                                                  0                 \n",
       "1  ...                                                  0                 \n",
       "2  ...                                                  0                 \n",
       "3  ...                                                  0                 \n",
       "4  ...                                                  0                 \n",
       "\n",
       "   Renda_Familiar_Entre 4 e 5 salários mínimos (R$4.400 – R$5.500)  \\\n",
       "0                                                  0                 \n",
       "1                                                  0                 \n",
       "2                                                  0                 \n",
       "3                                                  0                 \n",
       "4                                                  0                 \n",
       "\n",
       "   Renda_Familiar_Mais que 5 salários mínimos (mais que R$5.500)  \\\n",
       "0                                                  0               \n",
       "1                                                  0               \n",
       "2                                                  0               \n",
       "3                                                  0               \n",
       "4                                                  0               \n",
       "\n",
       "   Horario_Estudando_Já concluí  Horario_Estudando_Manhã  \\\n",
       "0                             0                        0   \n",
       "1                             0                        1   \n",
       "2                             0                        1   \n",
       "3                             0                        0   \n",
       "4                             1                        0   \n",
       "\n",
       "   Horario_Estudando_Noite  Horario_Estudando_Tarde  \\\n",
       "0                        1                        0   \n",
       "1                        0                        0   \n",
       "2                        0                        0   \n",
       "3                        1                        0   \n",
       "4                        0                        0   \n",
       "\n",
       "   Faixa_Pessoas_Casa_Pessoas_Casa_4-6  Faixa_Pessoas_Casa_Pessoas_Casa_7-10  \\\n",
       "0                                    0                                     1   \n",
       "1                                    0                                     0   \n",
       "2                                    0                                     0   \n",
       "3                                    1                                     0   \n",
       "4                                    0                                     0   \n",
       "\n",
       "   Faixa_Pessoas_Casa_Pessoas_Casa_Mais_que_10  \n",
       "0                                            0  \n",
       "1                                            0  \n",
       "2                                            0  \n",
       "3                                            0  \n",
       "4                                            0  \n",
       "\n",
       "[5 rows x 38 columns]"
      ]
     },
     "execution_count": 96,
     "metadata": {},
     "output_type": "execute_result"
    }
   ],
   "source": [
    "# Lista das colunas categóricas\n",
    "colunas_categoricas = [\n",
    "    'Tipo_escola', 'Escolaridade', 'Estado', 'Trabalhando', 'Estudando',\n",
    "    'Concluiu_EAD', 'Aprender_EAD', 'Disponibilidade_Tutoria',\n",
    "    'Renda_Familiar', 'Horario_Estudando', \n",
    "    'Faixa_Pessoas_Casa'\n",
    "]\n",
    "\n",
    "# Aplicar One-Hot Encoding\n",
    "df_codificado = pd.get_dummies(df, columns=colunas_categoricas, drop_first=True)\n",
    "\n",
    "# Exibir as primeiras linhas do DataFrame com as novas colunas\n",
    "df_codificado.head()\n"
   ]
  },
  {
   "cell_type": "code",
   "execution_count": 97,
   "metadata": {},
   "outputs": [
    {
     "name": "stdout",
     "output_type": "stream",
     "text": [
      "Disponibilidade_3_Meses :  [1 0] Qntd: 2 ##########\n",
      "\n",
      "\n",
      "\n",
      "Abandono_curso :  [1 0] Qntd: 2 ##########\n",
      "\n",
      "\n",
      "\n",
      "Computador :  [1 0] Qntd: 2 ##########\n",
      "\n",
      "\n",
      "\n",
      "Móvel Próprio :  [1 0] Qntd: 2 ##########\n",
      "\n",
      "\n",
      "\n",
      "Móvel Compartilhado :  [0 1] Qntd: 2 ##########\n",
      "\n",
      "\n",
      "\n",
      "4G :  [1 0] Qntd: 2 ##########\n",
      "\n",
      "\n",
      "\n",
      "Wifi :  [1 0] Qntd: 2 ##########\n",
      "\n",
      "\n",
      "\n",
      "Trabalha_Estuda :  [0 1] Qntd: 2 ##########\n",
      "\n",
      "\n",
      "\n",
      "Trabalha_meses :  [0 1] Qntd: 2 ##########\n",
      "\n",
      "\n",
      "\n",
      "Disponivel :  [1 0] Qntd: 2 ##########\n",
      "\n",
      "\n",
      "\n",
      "renda_percapita :  [ 392.85714286  550.          333.33333333  330.          825.\n",
      "  687.5         250.          200.         1000.          166.66666667\n",
      "  412.5        1750.          275.          641.66666667 1283.33333333\n",
      "  500.          142.85714286 1650.          916.66666667  343.75\n",
      " 1250.          962.5         458.33333333 1375.          125.\n",
      "  111.11111111 1666.66666667  235.71428571 1400.         2333.33333333\n",
      " 3500.          770.          833.33333333  385.          183.33333333\n",
      " 1925.         2500.          206.25        625.           90.90909091\n",
      "  481.25        427.77777778  714.28571429 2750.          305.55555556\n",
      "  100.          165.        ] Qntd: 47 ##########\n",
      "\n",
      "\n",
      "\n",
      "Tipo_escola_scholarship :  [0 1] Qntd: 2 ##########\n",
      "\n",
      "\n",
      "\n",
      "Escolaridade_Cursando o Ensino Superior :  [0 1] Qntd: 2 ##########\n",
      "\n",
      "\n",
      "\n",
      "Escolaridade_Ensino Médio concluído :  [0 1] Qntd: 2 ##########\n",
      "\n",
      "\n",
      "\n",
      "Escolaridade_Ensino Médio concluído e não estudando :  [0 1] Qntd: 2 ##########\n",
      "\n",
      "\n",
      "\n",
      "Escolaridade_Ensino Superior concluído :  [0 1] Qntd: 2 ##########\n",
      "\n",
      "\n",
      "\n",
      "Estado_RS :  [0 1] Qntd: 2 ##########\n",
      "\n",
      "\n",
      "\n",
      "Estado_SC :  [0 1] Qntd: 2 ##########\n",
      "\n",
      "\n",
      "\n",
      "Estado_SP :  [1 0] Qntd: 2 ##########\n",
      "\n",
      "\n",
      "\n",
      "Trabalhando_Sim :  [0 1] Qntd: 2 ##########\n",
      "\n",
      "\n",
      "\n",
      "Estudando_Sim :  [1 0] Qntd: 2 ##########\n",
      "\n",
      "\n",
      "\n",
      "Concluiu_EAD_1 :  [1 0] Qntd: 2 ##########\n",
      "\n",
      "\n",
      "\n",
      "Aprender_EAD_Muito eu tenho uma rotina definida para participar de cursos a distância :  [1 0] Qntd: 2 ##########\n",
      "\n",
      "\n",
      "\n",
      "Aprender_EAD_Não sei dizer :  [0 1] Qntd: 2 ##########\n",
      "\n",
      "\n",
      "\n",
      "Aprender_EAD_Quase nada :  [0 1] Qntd: 2 ##########\n",
      "\n",
      "\n",
      "\n",
      "Disponibilidade_Tutoria_Sim :  [1 0] Qntd: 2 ##########\n",
      "\n",
      "\n",
      "\n",
      "Renda_Familiar_Entre 1 e 2 salários mínimos (R$1.100 – R$2.200) :  [0 1] Qntd: 2 ##########\n",
      "\n",
      "\n",
      "\n",
      "Renda_Familiar_Entre 2 e 3 salários mínimos (R$2.200 – R$3.300) :  [1 0] Qntd: 2 ##########\n",
      "\n",
      "\n",
      "\n",
      "Renda_Familiar_Entre 3 e 4 salários mínimos (R$3.300 – R$4.400) :  [0 1] Qntd: 2 ##########\n",
      "\n",
      "\n",
      "\n",
      "Renda_Familiar_Entre 4 e 5 salários mínimos (R$4.400 – R$5.500) :  [0 1] Qntd: 2 ##########\n",
      "\n",
      "\n",
      "\n",
      "Renda_Familiar_Mais que 5 salários mínimos (mais que R$5.500) :  [0 1] Qntd: 2 ##########\n",
      "\n",
      "\n",
      "\n",
      "Horario_Estudando_Já concluí :  [0 1] Qntd: 2 ##########\n",
      "\n",
      "\n",
      "\n",
      "Horario_Estudando_Manhã :  [0 1] Qntd: 2 ##########\n",
      "\n",
      "\n",
      "\n",
      "Horario_Estudando_Noite :  [1 0] Qntd: 2 ##########\n",
      "\n",
      "\n",
      "\n",
      "Horario_Estudando_Tarde :  [0 1] Qntd: 2 ##########\n",
      "\n",
      "\n",
      "\n",
      "Faixa_Pessoas_Casa_Pessoas_Casa_4-6 :  [0 1] Qntd: 2 ##########\n",
      "\n",
      "\n",
      "\n",
      "Faixa_Pessoas_Casa_Pessoas_Casa_7-10 :  [1 0] Qntd: 2 ##########\n",
      "\n",
      "\n",
      "\n",
      "Faixa_Pessoas_Casa_Pessoas_Casa_Mais_que_10 :  [0 1] Qntd: 2 ##########\n",
      "\n",
      "\n",
      "\n"
     ]
    }
   ],
   "source": [
    "def print_unique (df):\n",
    "    columns = df.columns\n",
    "    for col in columns:\n",
    "        print(col, \": \", df[col].unique(),\n",
    "              \"Qntd:\", len(df[col].unique()), \"##########\\n\\n\")\n",
    "        print()\n",
    "    return None\n",
    "\n",
    "\n",
    "\n",
    "print_unique(df_codificado)"
   ]
  },
  {
   "cell_type": "code",
   "execution_count": 98,
   "metadata": {},
   "outputs": [
    {
     "data": {
      "text/plain": [
       "Index(['Disponibilidade_3_Meses', 'Abandono_curso', 'Computador',\n",
       "       'Móvel Próprio', 'Móvel Compartilhado', '4G', 'Wifi', 'Trabalha_Estuda',\n",
       "       'Trabalha_meses', 'Disponivel', 'renda_percapita',\n",
       "       'Tipo_escola_scholarship', 'Escolaridade_Cursando o Ensino Superior',\n",
       "       'Escolaridade_Ensino Médio concluído',\n",
       "       'Escolaridade_Ensino Médio concluído e não estudando',\n",
       "       'Escolaridade_Ensino Superior concluído', 'Estado_RS', 'Estado_SC',\n",
       "       'Estado_SP', 'Trabalhando_Sim', 'Estudando_Sim', 'Concluiu_EAD_1',\n",
       "       'Aprender_EAD_Muito eu tenho uma rotina definida para participar de cursos a distância',\n",
       "       'Aprender_EAD_Não sei dizer', 'Aprender_EAD_Quase nada',\n",
       "       'Disponibilidade_Tutoria_Sim',\n",
       "       'Renda_Familiar_Entre 1 e 2 salários mínimos (R$1.100 – R$2.200)',\n",
       "       'Renda_Familiar_Entre 2 e 3 salários mínimos (R$2.200 – R$3.300)',\n",
       "       'Renda_Familiar_Entre 3 e 4 salários mínimos (R$3.300 – R$4.400)',\n",
       "       'Renda_Familiar_Entre 4 e 5 salários mínimos (R$4.400 – R$5.500)',\n",
       "       'Renda_Familiar_Mais que 5 salários mínimos (mais que R$5.500)',\n",
       "       'Horario_Estudando_Já concluí', 'Horario_Estudando_Manhã',\n",
       "       'Horario_Estudando_Noite', 'Horario_Estudando_Tarde',\n",
       "       'Faixa_Pessoas_Casa_Pessoas_Casa_4-6',\n",
       "       'Faixa_Pessoas_Casa_Pessoas_Casa_7-10',\n",
       "       'Faixa_Pessoas_Casa_Pessoas_Casa_Mais_que_10'],\n",
       "      dtype='object')"
      ]
     },
     "execution_count": 98,
     "metadata": {},
     "output_type": "execute_result"
    }
   ],
   "source": [
    "df_codificado.columns"
   ]
  },
  {
   "cell_type": "code",
   "execution_count": 99,
   "metadata": {},
   "outputs": [
    {
     "data": {
      "text/plain": [
       "Disponibilidade_3_Meses                                                                  0\n",
       "Abandono_curso                                                                           0\n",
       "Computador                                                                               0\n",
       "Móvel Próprio                                                                            0\n",
       "Móvel Compartilhado                                                                      0\n",
       "4G                                                                                       0\n",
       "Wifi                                                                                     0\n",
       "Trabalha_Estuda                                                                          0\n",
       "Trabalha_meses                                                                           0\n",
       "Disponivel                                                                               0\n",
       "renda_percapita                                                                          0\n",
       "Tipo_escola_scholarship                                                                  0\n",
       "Escolaridade_Cursando o Ensino Superior                                                  0\n",
       "Escolaridade_Ensino Médio concluído                                                      0\n",
       "Escolaridade_Ensino Médio concluído e não estudando                                      0\n",
       "Escolaridade_Ensino Superior concluído                                                   0\n",
       "Estado_RS                                                                                0\n",
       "Estado_SC                                                                                0\n",
       "Estado_SP                                                                                0\n",
       "Trabalhando_Sim                                                                          0\n",
       "Estudando_Sim                                                                            0\n",
       "Concluiu_EAD_1                                                                           0\n",
       "Aprender_EAD_Muito eu tenho uma rotina definida para participar de cursos a distância    0\n",
       "Aprender_EAD_Não sei dizer                                                               0\n",
       "Aprender_EAD_Quase nada                                                                  0\n",
       "Disponibilidade_Tutoria_Sim                                                              0\n",
       "Renda_Familiar_Entre 1 e 2 salários mínimos (R$1.100 – R$2.200)                          0\n",
       "Renda_Familiar_Entre 2 e 3 salários mínimos (R$2.200 – R$3.300)                          0\n",
       "Renda_Familiar_Entre 3 e 4 salários mínimos (R$3.300 – R$4.400)                          0\n",
       "Renda_Familiar_Entre 4 e 5 salários mínimos (R$4.400 – R$5.500)                          0\n",
       "Renda_Familiar_Mais que 5 salários mínimos (mais que R$5.500)                            0\n",
       "Horario_Estudando_Já concluí                                                             0\n",
       "Horario_Estudando_Manhã                                                                  0\n",
       "Horario_Estudando_Noite                                                                  0\n",
       "Horario_Estudando_Tarde                                                                  0\n",
       "Faixa_Pessoas_Casa_Pessoas_Casa_4-6                                                      0\n",
       "Faixa_Pessoas_Casa_Pessoas_Casa_7-10                                                     0\n",
       "Faixa_Pessoas_Casa_Pessoas_Casa_Mais_que_10                                              0\n",
       "dtype: int64"
      ]
     },
     "execution_count": 99,
     "metadata": {},
     "output_type": "execute_result"
    }
   ],
   "source": [
    "df_codificado.isnull().sum()"
   ]
  },
  {
   "cell_type": "code",
   "execution_count": 100,
   "metadata": {},
   "outputs": [],
   "source": [
    "\n",
    "# Selecionar todas as colunas numéricas para normalização\n",
    "\n",
    "colunas_numericas = df_codificado.select_dtypes(include=['float64', 'int64']).columns.tolist()\n",
    "\n",
    "# Excluir a coluna 'Abandono_curso' da lista de colunas numéricas\n",
    "colunas_numericas.remove('Abandono_curso')\n",
    "\n",
    "# Criar um objeto MinMaxScaler\n",
    "scaler = MinMaxScaler()\n",
    "\n",
    "# Aplicar a normalização em todas as colunas numéricas\n",
    "df_codificado[colunas_numericas] = scaler.fit_transform(df_codificado[colunas_numericas])\n"
   ]
  },
  {
   "cell_type": "code",
   "execution_count": 102,
   "metadata": {},
   "outputs": [],
   "source": [
    "df_codificado.to_csv('Dataset_Treino_processed.csv', index=False)"
   ]
  },
  {
   "cell_type": "markdown",
   "metadata": {},
   "source": [
    "# Modelagem"
   ]
  },
  {
   "cell_type": "markdown",
   "metadata": {},
   "source": [
    "## Imports"
   ]
  },
  {
   "cell_type": "code",
   "execution_count": 136,
   "metadata": {},
   "outputs": [],
   "source": [
    "from sklearn.preprocessing import MinMaxScaler\n",
    "from sklearn.model_selection import  train_test_split\n",
    "from imblearn.over_sampling import SMOTE\n",
    "from imblearn.under_sampling import RandomUnderSampler\n",
    "\n",
    "# Classifiers\n",
    "\n",
    "from sklearn.linear_model import SGDClassifier\n",
    "from sklearn.naive_bayes import GaussianNB\n",
    "from sklearn.neighbors import KNeighborsClassifier\n",
    "from sklearn.svm import LinearSVC, SVC\n",
    "from sklearn.tree import DecisionTreeClassifier\n",
    "from sklearn.linear_model import LogisticRegression\n",
    "from xgboost import XGBClassifier\n",
    "from sklearn.neural_network import MLPClassifier\n",
    "\n",
    "## Ensembles\n",
    "from sklearn.ensemble import RandomForestClassifier\n",
    "\n",
    "# Metrics\n",
    "from sklearn.metrics import accuracy_score, classification_report\n",
    "from sklearn.metrics import confusion_matrix, ConfusionMatrixDisplay\n",
    "from sklearn.metrics import auc, roc_curve, RocCurveDisplay\n",
    "from sklearn.model_selection import cross_val_score, RandomizedSearchCV\n",
    "\n",
    "# Seleção de Feature \n",
    "from sklearn.feature_selection import SelectFromModel"
   ]
  },
  {
   "cell_type": "code",
   "execution_count": 137,
   "metadata": {},
   "outputs": [],
   "source": [
    "SEED = 265123"
   ]
  },
  {
   "cell_type": "markdown",
   "metadata": {},
   "source": [
    "### Balanceando classe target"
   ]
  },
  {
   "cell_type": "code",
   "execution_count": 138,
   "metadata": {},
   "outputs": [
    {
     "data": {
      "text/plain": [
       "1    2695\n",
       "0    1043\n",
       "Name: Abandono_curso, dtype: int64"
      ]
     },
     "execution_count": 138,
     "metadata": {},
     "output_type": "execute_result"
    }
   ],
   "source": [
    "df_codificado['Abandono_curso'].value_counts() "
   ]
  },
  {
   "cell_type": "code",
   "execution_count": 139,
   "metadata": {},
   "outputs": [],
   "source": [
    "X = df_codificado.drop(['Abandono_curso'], axis=1)\n",
    "y = df_codificado['Abandono_curso']\n"
   ]
  },
  {
   "cell_type": "code",
   "execution_count": 39,
   "metadata": {},
   "outputs": [],
   "source": [
    "#sm = (sampling_strategy=1, random_state=SEED)\n",
    "#X_res, y_res = sm.fit_resample(X, y)\n",
    "\n"
   ]
  },
  {
   "cell_type": "code",
   "execution_count": 140,
   "metadata": {},
   "outputs": [
    {
     "data": {
      "text/plain": [
       "1    2695\n",
       "0    1043\n",
       "Name: Abandono_curso, dtype: int64"
      ]
     },
     "execution_count": 140,
     "metadata": {},
     "output_type": "execute_result"
    }
   ],
   "source": [
    "y.value_counts() "
   ]
  },
  {
   "cell_type": "code",
   "execution_count": 141,
   "metadata": {},
   "outputs": [],
   "source": [
    "X_train, X_test, y_train, y_test = train_test_split(X, y, random_state=SEED)"
   ]
  },
  {
   "cell_type": "code",
   "execution_count": 142,
   "metadata": {},
   "outputs": [],
   "source": [
    "import lightgbm as lgb\n",
    "\n",
    "clf = lgb.LGBMClassifier()\n"
   ]
  },
  {
   "cell_type": "markdown",
   "metadata": {},
   "source": [
    "### Testando modelos"
   ]
  },
  {
   "cell_type": "code",
   "execution_count": 143,
   "metadata": {},
   "outputs": [],
   "source": [
    "from sklearn.utils.extmath import randomized_range_finder\n",
    "models = {}\n",
    "#lightGBM\n",
    "models.update( {\"gbm\": lgb.LGBMClassifier(random_state=SEED)})\n",
    "# decision tree classifier\n",
    "models.update( {\"dtc\":DecisionTreeClassifier(random_state=SEED)} )\n",
    "# Gaussian Naive Bayes - testar\n",
    "models.update( {\"gnb\":GaussianNB()} )\n",
    "# k-nearest neighbors\n",
    "models.update( {\"knn\":KNeighborsClassifier()} )\n",
    "# Support Vector Classification Linear\n",
    "models.update( {\"svcl\":LinearSVC(random_state=SEED)} )\n",
    "# Support Vector Classification Polynomial\n",
    "models.update( {\"svcp\":SVC(kernel=\"poly\", random_state=SEED, max_iter=3000)} )\n",
    "# Support Vector Classification Rbf\n",
    "models.update( {\"svcr\":SVC(kernel=\"rbf\", random_state=SEED, max_iter=3000)} )\n",
    "# random forest\n",
    "models.update( {\"rf\":RandomForestClassifier(random_state=SEED)} )\n",
    "# Stochastic Gradient Descent Classifier\n",
    "models.update( {\"sgd\":SGDClassifier(random_state=SEED)} )\n",
    "# Logistic Regression\n",
    "models.update( {\"lr\":LogisticRegression(random_state=SEED, max_iter=1000)} )\n",
    "# Multilayer Perceptron\n",
    "models.update( {\"mlp\":MLPClassifier(random_state=SEED, max_iter=1000)} ) \n",
    "# Extreme Gradiente Boost\n",
    "models.update( {\"xgb\":XGBClassifier(random_state=SEED)} ) \n"
   ]
  },
  {
   "cell_type": "code",
   "execution_count": 144,
   "metadata": {},
   "outputs": [
    {
     "name": "stdout",
     "output_type": "stream",
     "text": [
      "Training model: gbm\n",
      "[LightGBM] [Warning] Found whitespace in feature_names, replace with underlines\n",
      "[LightGBM] [Info] Number of positive: 2010, number of negative: 793\n",
      "[LightGBM] [Info] Auto-choosing row-wise multi-threading, the overhead of testing was 0.000159 seconds.\n",
      "You can set `force_row_wise=true` to remove the overhead.\n",
      "And if memory is not enough, you can set `force_col_wise=true`.\n",
      "[LightGBM] [Info] Total Bins 105\n",
      "[LightGBM] [Info] Number of data points in the train set: 2803, number of used features: 33\n",
      "[LightGBM] [Info] [binary:BoostFromScore]: pavg=0.717089 -> initscore=0.930067\n",
      "[LightGBM] [Info] Start training from score 0.930067\n",
      "Training model: dtc\n",
      "Training model: gnb\n",
      "Training model: knn\n",
      "Training model: svcl\n",
      "Training model: svcp\n"
     ]
    },
    {
     "name": "stderr",
     "output_type": "stream",
     "text": [
      "c:\\dev\\python\\lib\\site-packages\\sklearn\\svm\\_base.py:284: ConvergenceWarning: Solver terminated early (max_iter=3000).  Consider pre-processing your data with StandardScaler or MinMaxScaler.\n",
      "  warnings.warn(\n",
      "c:\\dev\\python\\lib\\site-packages\\sklearn\\svm\\_base.py:284: ConvergenceWarning: Solver terminated early (max_iter=3000).  Consider pre-processing your data with StandardScaler or MinMaxScaler.\n",
      "  warnings.warn(\n"
     ]
    },
    {
     "name": "stdout",
     "output_type": "stream",
     "text": [
      "Training model: svcr\n",
      "Training model: rf\n",
      "Training model: sgd\n",
      "Training model: lr\n",
      "Training model: mlp\n",
      "Training model: xgb\n"
     ]
    }
   ],
   "source": [
    "trained_models = {}\n",
    "for cls in models.keys():\n",
    "  print(f\"Training model: {cls}\")\n",
    "  trained_models.update({cls:models[cls].fit(X_train, y_train)})"
   ]
  },
  {
   "cell_type": "code",
   "execution_count": 145,
   "metadata": {},
   "outputs": [
    {
     "name": "stdout",
     "output_type": "stream",
     "text": [
      "Retrieving predictions from model: gbm\n",
      "Retrieving predictions from model: dtc\n",
      "Retrieving predictions from model: gnb\n",
      "Retrieving predictions from model: knn\n",
      "Retrieving predictions from model: svcl\n",
      "Retrieving predictions from model: svcp\n",
      "Retrieving predictions from model: svcr\n",
      "Retrieving predictions from model: rf\n",
      "Retrieving predictions from model: sgd\n",
      "Retrieving predictions from model: lr\n",
      "Retrieving predictions from model: mlp\n",
      "Retrieving predictions from model: xgb\n"
     ]
    }
   ],
   "source": [
    "predictions = {}\n",
    "for cls in trained_models.keys():\n",
    "  print(f\"Retrieving predictions from model: {cls}\")\n",
    "  predictions.update({cls:trained_models[cls].predict(X_test)})"
   ]
  },
  {
   "cell_type": "code",
   "execution_count": 146,
   "metadata": {},
   "outputs": [],
   "source": [
    "accuracies = {}\n",
    "class_rep = {}\n",
    "conf_matr = {}\n",
    "\n",
    "for pred in predictions.keys():\n",
    "  # accuracy scores\n",
    "  accuracies.update( { pred: accuracy_score(y_test, predictions[pred]) } )\n",
    "  # classification reports\n",
    "  class_rep.update( { pred: classification_report(y_test, predictions[pred]) } )\n",
    "  # confusion matrixes\n",
    "  conf_matr.update( { pred: confusion_matrix(y_test, predictions[pred]) } )"
   ]
  },
  {
   "cell_type": "code",
   "execution_count": 147,
   "metadata": {},
   "outputs": [
    {
     "data": {
      "text/plain": [
       "{'gbm': 0.7700534759358288,\n",
       " 'dtc': 0.6427807486631016,\n",
       " 'gnb': 0.7925133689839572,\n",
       " 'knn': 0.7058823529411765,\n",
       " 'svcl': 0.7957219251336899,\n",
       " 'svcp': 0.7946524064171123,\n",
       " 'svcr': 0.7925133689839572,\n",
       " 'rf': 0.7368983957219252,\n",
       " 'sgd': 0.7946524064171123,\n",
       " 'lr': 0.7946524064171123,\n",
       " 'mlp': 0.7786096256684492,\n",
       " 'xgb': 0.758288770053476}"
      ]
     },
     "execution_count": 147,
     "metadata": {},
     "output_type": "execute_result"
    }
   ],
   "source": [
    "accuracies"
   ]
  },
  {
   "cell_type": "markdown",
   "metadata": {},
   "source": [
    "### Crossvalidation"
   ]
  },
  {
   "cell_type": "code",
   "execution_count": 148,
   "metadata": {},
   "outputs": [],
   "source": [
    "cv_models = {}\n",
    "#lightGBM\n",
    "cv_models.update( {\"gbm\": lgb.LGBMClassifier(random_state=SEED)})\n",
    "# decision tree classifier\n",
    "cv_models.update( {\"dtc\":DecisionTreeClassifier(random_state=SEED)} )\n",
    "# Gaussian Naive Bayes - testar\n",
    "cv_models.update( {\"gnb\":GaussianNB()} )\n",
    "# k-nearest neighbors\n",
    "cv_models.update( {\"knn\":KNeighborsClassifier()} )\n",
    "# Support Vector Classification Linear\n",
    "cv_models.update( {\"svcl\":LinearSVC(random_state=SEED, max_iter=5000)} )\n",
    "# Support Vector Classification Polynomial\n",
    "cv_models.update( {\"svcp\":SVC(kernel=\"poly\", random_state=SEED, max_iter=5000)} )\n",
    "# Support Vector Classification Rbf\n",
    "cv_models.update( {\"svcr\":SVC(kernel=\"rbf\", random_state=SEED, max_iter=5000)} )\n",
    "# random forest\n",
    "cv_models.update( {\"rf\":RandomForestClassifier(random_state=SEED)} )\n",
    "# Stochastic Gradient Descent Classifier\n",
    "cv_models.update( {\"sgd\":SGDClassifier(random_state=SEED, max_iter=3000)} )\n",
    "# Logistic Regression\n",
    "cv_models.update( {\"lr\":LogisticRegression(random_state=SEED, max_iter=1000)} )\n",
    "# Multilayer Perceptron\n",
    "cv_models.update( {\"mlp\":MLPClassifier(random_state=SEED, max_iter=1000)} ) \n",
    "# Extreme Gradiente Boost\n",
    "cv_models.update( {\"xgb\":XGBClassifier()} )"
   ]
  },
  {
   "cell_type": "code",
   "execution_count": 149,
   "metadata": {},
   "outputs": [
    {
     "name": "stdout",
     "output_type": "stream",
     "text": [
      "Training cross validation of model: gbm\n",
      "[LightGBM] [Warning] Found whitespace in feature_names, replace with underlines\n",
      "[LightGBM] [Info] Number of positive: 1608, number of negative: 634\n",
      "[LightGBM] [Info] Auto-choosing row-wise multi-threading, the overhead of testing was 0.000134 seconds.\n",
      "You can set `force_row_wise=true` to remove the overhead.\n",
      "And if memory is not enough, you can set `force_col_wise=true`.\n",
      "[LightGBM] [Info] Total Bins 100\n",
      "[LightGBM] [Info] Number of data points in the train set: 2242, number of used features: 31\n",
      "[LightGBM] [Info] [binary:BoostFromScore]: pavg=0.717217 -> initscore=0.930697\n",
      "[LightGBM] [Info] Start training from score 0.930697\n",
      "[LightGBM] [Warning] Found whitespace in feature_names, replace with underlines\n",
      "[LightGBM] [Info] Number of positive: 1608, number of negative: 634\n",
      "[LightGBM] [Info] Auto-choosing row-wise multi-threading, the overhead of testing was 0.000135 seconds.\n",
      "You can set `force_row_wise=true` to remove the overhead.\n",
      "And if memory is not enough, you can set `force_col_wise=true`.\n",
      "[LightGBM] [Info] Total Bins 101\n",
      "[LightGBM] [Info] Number of data points in the train set: 2242, number of used features: 32\n",
      "[LightGBM] [Info] [binary:BoostFromScore]: pavg=0.717217 -> initscore=0.930697\n",
      "[LightGBM] [Info] Start training from score 0.930697\n",
      "[LightGBM] [Warning] Found whitespace in feature_names, replace with underlines\n",
      "[LightGBM] [Info] Number of positive: 1608, number of negative: 634\n",
      "[LightGBM] [Info] Auto-choosing row-wise multi-threading, the overhead of testing was 0.000129 seconds.\n",
      "You can set `force_row_wise=true` to remove the overhead.\n",
      "And if memory is not enough, you can set `force_col_wise=true`.\n",
      "[LightGBM] [Info] Total Bins 100\n",
      "[LightGBM] [Info] Number of data points in the train set: 2242, number of used features: 31\n",
      "[LightGBM] [Info] [binary:BoostFromScore]: pavg=0.717217 -> initscore=0.930697\n",
      "[LightGBM] [Info] Start training from score 0.930697\n",
      "[LightGBM] [Warning] Found whitespace in feature_names, replace with underlines\n",
      "[LightGBM] [Info] Number of positive: 1608, number of negative: 635\n",
      "[LightGBM] [Info] Auto-choosing row-wise multi-threading, the overhead of testing was 0.000137 seconds.\n",
      "You can set `force_row_wise=true` to remove the overhead.\n",
      "And if memory is not enough, you can set `force_col_wise=true`.\n",
      "[LightGBM] [Info] Total Bins 99\n",
      "[LightGBM] [Info] Number of data points in the train set: 2243, number of used features: 31\n",
      "[LightGBM] [Info] [binary:BoostFromScore]: pavg=0.716897 -> initscore=0.929121\n",
      "[LightGBM] [Info] Start training from score 0.929121\n",
      "[LightGBM] [Warning] Found whitespace in feature_names, replace with underlines\n",
      "[LightGBM] [Info] Number of positive: 1608, number of negative: 635\n",
      "[LightGBM] [Info] Auto-choosing row-wise multi-threading, the overhead of testing was 0.000133 seconds.\n",
      "You can set `force_row_wise=true` to remove the overhead.\n",
      "And if memory is not enough, you can set `force_col_wise=true`.\n",
      "[LightGBM] [Info] Total Bins 100\n",
      "[LightGBM] [Info] Number of data points in the train set: 2243, number of used features: 31\n",
      "[LightGBM] [Info] [binary:BoostFromScore]: pavg=0.716897 -> initscore=0.929121\n",
      "[LightGBM] [Info] Start training from score 0.929121\n",
      "Training cross validation of model: dtc\n",
      "Training cross validation of model: gnb\n",
      "Training cross validation of model: knn\n",
      "Training cross validation of model: svcl\n",
      "Training cross validation of model: svcp\n"
     ]
    },
    {
     "name": "stderr",
     "output_type": "stream",
     "text": [
      "c:\\dev\\python\\lib\\site-packages\\sklearn\\svm\\_base.py:284: ConvergenceWarning: Solver terminated early (max_iter=5000).  Consider pre-processing your data with StandardScaler or MinMaxScaler.\n",
      "  warnings.warn(\n",
      "c:\\dev\\python\\lib\\site-packages\\sklearn\\svm\\_base.py:284: ConvergenceWarning: Solver terminated early (max_iter=5000).  Consider pre-processing your data with StandardScaler or MinMaxScaler.\n",
      "  warnings.warn(\n",
      "c:\\dev\\python\\lib\\site-packages\\sklearn\\svm\\_base.py:284: ConvergenceWarning: Solver terminated early (max_iter=5000).  Consider pre-processing your data with StandardScaler or MinMaxScaler.\n",
      "  warnings.warn(\n",
      "c:\\dev\\python\\lib\\site-packages\\sklearn\\svm\\_base.py:284: ConvergenceWarning: Solver terminated early (max_iter=5000).  Consider pre-processing your data with StandardScaler or MinMaxScaler.\n",
      "  warnings.warn(\n",
      "c:\\dev\\python\\lib\\site-packages\\sklearn\\svm\\_base.py:284: ConvergenceWarning: Solver terminated early (max_iter=5000).  Consider pre-processing your data with StandardScaler or MinMaxScaler.\n",
      "  warnings.warn(\n",
      "c:\\dev\\python\\lib\\site-packages\\sklearn\\svm\\_base.py:284: ConvergenceWarning: Solver terminated early (max_iter=5000).  Consider pre-processing your data with StandardScaler or MinMaxScaler.\n",
      "  warnings.warn(\n"
     ]
    },
    {
     "name": "stdout",
     "output_type": "stream",
     "text": [
      "Training cross validation of model: svcr\n"
     ]
    },
    {
     "name": "stderr",
     "output_type": "stream",
     "text": [
      "c:\\dev\\python\\lib\\site-packages\\sklearn\\svm\\_base.py:284: ConvergenceWarning: Solver terminated early (max_iter=5000).  Consider pre-processing your data with StandardScaler or MinMaxScaler.\n",
      "  warnings.warn(\n",
      "c:\\dev\\python\\lib\\site-packages\\sklearn\\svm\\_base.py:284: ConvergenceWarning: Solver terminated early (max_iter=5000).  Consider pre-processing your data with StandardScaler or MinMaxScaler.\n",
      "  warnings.warn(\n",
      "c:\\dev\\python\\lib\\site-packages\\sklearn\\svm\\_base.py:284: ConvergenceWarning: Solver terminated early (max_iter=5000).  Consider pre-processing your data with StandardScaler or MinMaxScaler.\n",
      "  warnings.warn(\n",
      "c:\\dev\\python\\lib\\site-packages\\sklearn\\svm\\_base.py:284: ConvergenceWarning: Solver terminated early (max_iter=5000).  Consider pre-processing your data with StandardScaler or MinMaxScaler.\n",
      "  warnings.warn(\n"
     ]
    },
    {
     "name": "stdout",
     "output_type": "stream",
     "text": [
      "Training cross validation of model: rf\n",
      "Training cross validation of model: sgd\n",
      "Training cross validation of model: lr\n",
      "Training cross validation of model: mlp\n",
      "Training cross validation of model: xgb\n"
     ]
    }
   ],
   "source": [
    "cv_scores = {}\n",
    "\n",
    "for cls in cv_models.keys():\n",
    "  print(f\"Training cross validation of model: {cls}\")\n",
    "  score = np.mean(cross_val_score(cv_models[cls], X_train, y_train))\n",
    "  cv_scores.update( {cls: score} )"
   ]
  },
  {
   "cell_type": "code",
   "execution_count": 150,
   "metadata": {},
   "outputs": [
    {
     "data": {
      "text/plain": [
       "{'gbm': 0.7381398013750956,\n",
       " 'dtc': 0.6232677616501145,\n",
       " 'gnb': 0.7673936847466261,\n",
       " 'knn': 0.6903399541634836,\n",
       " 'svcl': 0.7738171632289279,\n",
       " 'svcp': 0.7713203463203464,\n",
       " 'svcr': 0.769891774891775,\n",
       " 'rf': 0.7135224089635854,\n",
       " 'sgd': 0.7734606569900687,\n",
       " 'lr': 0.7720333587980647,\n",
       " 'mlp': 0.7060434173669468,\n",
       " 'xgb': 0.7313610898905016}"
      ]
     },
     "execution_count": 150,
     "metadata": {},
     "output_type": "execute_result"
    }
   ],
   "source": [
    "cv_scores"
   ]
  },
  {
   "cell_type": "markdown",
   "metadata": {},
   "source": [
    "### Otimização de hiperparâmetros"
   ]
  },
  {
   "cell_type": "code",
   "execution_count": 171,
   "metadata": {},
   "outputs": [],
   "source": [
    "from skopt import BayesSearchCV\n",
    "mlp = MLPClassifier()"
   ]
  },
  {
   "cell_type": "code",
   "execution_count": 156,
   "metadata": {},
   "outputs": [],
   "source": [
    "#df_treino = pd.read_csv(\"./Dataset_Treino_processed.csv\")\n",
    "#X_train = df_treino.drop(['Abandono_curso'], axis=1)\n",
    "#y_train = df_treino['Abandono_curso']"
   ]
  },
  {
   "cell_type": "code",
   "execution_count": 172,
   "metadata": {},
   "outputs": [],
   "source": [
    "param_space = {\n",
    "    'hidden_layer_sizes': (10, 200),  # Número de neurônios em cada camada oculta\n",
    "    'activation': ['relu', 'tanh'],   # Função de ativação\n",
    "    'alpha': (1e-5, 1e-2),           # Termo de regularização L2\n",
    "    'learning_rate': ['constant', 'adaptive'],  # Taxa de aprendizado\n",
    "    'solver': ['adam', 'lbfgs', 'sgd'],  # Algoritmo de otimização\n",
    "    'batch_size': (32, 128),         # Tamanho do lote\n",
    "    'max_iter': [3000],         # Número máximo de iterações\n",
    "}"
   ]
  },
  {
   "cell_type": "code",
   "execution_count": 174,
   "metadata": {},
   "outputs": [],
   "source": [
    "opt = BayesSearchCV(\n",
    "    mlp,\n",
    "    param_space,\n",
    "    n_iter=150,  # Número de iterações de otimização\n",
    "    cv=5,  # Número de dobras na validação cruzada\n",
    "    n_jobs = -1,\n",
    "    verbose = 10,\n",
    ")\n"
   ]
  },
  {
   "cell_type": "code",
   "execution_count": 175,
   "metadata": {},
   "outputs": [
    {
     "name": "stdout",
     "output_type": "stream",
     "text": [
      "Fitting 5 folds for each of 1 candidates, totalling 5 fits\n",
      "Fitting 5 folds for each of 1 candidates, totalling 5 fits\n",
      "Fitting 5 folds for each of 1 candidates, totalling 5 fits\n",
      "Fitting 5 folds for each of 1 candidates, totalling 5 fits\n",
      "Fitting 5 folds for each of 1 candidates, totalling 5 fits\n",
      "Fitting 5 folds for each of 1 candidates, totalling 5 fits\n",
      "Fitting 5 folds for each of 1 candidates, totalling 5 fits\n",
      "Fitting 5 folds for each of 1 candidates, totalling 5 fits\n",
      "Fitting 5 folds for each of 1 candidates, totalling 5 fits\n",
      "Fitting 5 folds for each of 1 candidates, totalling 5 fits\n",
      "Fitting 5 folds for each of 1 candidates, totalling 5 fits\n",
      "Fitting 5 folds for each of 1 candidates, totalling 5 fits\n",
      "Fitting 5 folds for each of 1 candidates, totalling 5 fits\n",
      "Fitting 5 folds for each of 1 candidates, totalling 5 fits\n",
      "Fitting 5 folds for each of 1 candidates, totalling 5 fits\n",
      "Fitting 5 folds for each of 1 candidates, totalling 5 fits\n",
      "Fitting 5 folds for each of 1 candidates, totalling 5 fits\n",
      "Fitting 5 folds for each of 1 candidates, totalling 5 fits\n",
      "Fitting 5 folds for each of 1 candidates, totalling 5 fits\n",
      "Fitting 5 folds for each of 1 candidates, totalling 5 fits\n"
     ]
    },
    {
     "name": "stderr",
     "output_type": "stream",
     "text": [
      "c:\\dev\\python\\lib\\site-packages\\skopt\\optimizer\\optimizer.py:449: UserWarning: The objective has been evaluated at this point before.\n",
      "  warnings.warn(\"The objective has been evaluated \"\n"
     ]
    },
    {
     "name": "stdout",
     "output_type": "stream",
     "text": [
      "Fitting 5 folds for each of 1 candidates, totalling 5 fits\n",
      "Fitting 5 folds for each of 1 candidates, totalling 5 fits\n",
      "Fitting 5 folds for each of 1 candidates, totalling 5 fits\n",
      "Fitting 5 folds for each of 1 candidates, totalling 5 fits\n",
      "Fitting 5 folds for each of 1 candidates, totalling 5 fits\n",
      "Fitting 5 folds for each of 1 candidates, totalling 5 fits\n",
      "Fitting 5 folds for each of 1 candidates, totalling 5 fits\n",
      "Fitting 5 folds for each of 1 candidates, totalling 5 fits\n",
      "Fitting 5 folds for each of 1 candidates, totalling 5 fits\n",
      "Fitting 5 folds for each of 1 candidates, totalling 5 fits\n",
      "Fitting 5 folds for each of 1 candidates, totalling 5 fits\n",
      "Fitting 5 folds for each of 1 candidates, totalling 5 fits\n",
      "Fitting 5 folds for each of 1 candidates, totalling 5 fits\n",
      "Fitting 5 folds for each of 1 candidates, totalling 5 fits\n",
      "Fitting 5 folds for each of 1 candidates, totalling 5 fits\n",
      "Fitting 5 folds for each of 1 candidates, totalling 5 fits\n",
      "Fitting 5 folds for each of 1 candidates, totalling 5 fits\n",
      "Fitting 5 folds for each of 1 candidates, totalling 5 fits\n",
      "Fitting 5 folds for each of 1 candidates, totalling 5 fits\n",
      "Fitting 5 folds for each of 1 candidates, totalling 5 fits\n",
      "Fitting 5 folds for each of 1 candidates, totalling 5 fits\n",
      "Fitting 5 folds for each of 1 candidates, totalling 5 fits\n",
      "Fitting 5 folds for each of 1 candidates, totalling 5 fits\n",
      "Fitting 5 folds for each of 1 candidates, totalling 5 fits\n",
      "Fitting 5 folds for each of 1 candidates, totalling 5 fits\n",
      "Fitting 5 folds for each of 1 candidates, totalling 5 fits\n",
      "Fitting 5 folds for each of 1 candidates, totalling 5 fits\n",
      "Fitting 5 folds for each of 1 candidates, totalling 5 fits\n",
      "Fitting 5 folds for each of 1 candidates, totalling 5 fits\n",
      "Fitting 5 folds for each of 1 candidates, totalling 5 fits\n",
      "Fitting 5 folds for each of 1 candidates, totalling 5 fits\n",
      "Fitting 5 folds for each of 1 candidates, totalling 5 fits\n",
      "Fitting 5 folds for each of 1 candidates, totalling 5 fits\n",
      "Fitting 5 folds for each of 1 candidates, totalling 5 fits\n",
      "Fitting 5 folds for each of 1 candidates, totalling 5 fits\n",
      "Fitting 5 folds for each of 1 candidates, totalling 5 fits\n",
      "Fitting 5 folds for each of 1 candidates, totalling 5 fits\n",
      "Fitting 5 folds for each of 1 candidates, totalling 5 fits\n",
      "Fitting 5 folds for each of 1 candidates, totalling 5 fits\n",
      "Fitting 5 folds for each of 1 candidates, totalling 5 fits\n",
      "Fitting 5 folds for each of 1 candidates, totalling 5 fits\n",
      "Fitting 5 folds for each of 1 candidates, totalling 5 fits\n",
      "Fitting 5 folds for each of 1 candidates, totalling 5 fits\n",
      "Fitting 5 folds for each of 1 candidates, totalling 5 fits\n",
      "Fitting 5 folds for each of 1 candidates, totalling 5 fits\n",
      "Fitting 5 folds for each of 1 candidates, totalling 5 fits\n",
      "Fitting 5 folds for each of 1 candidates, totalling 5 fits\n",
      "Fitting 5 folds for each of 1 candidates, totalling 5 fits\n",
      "Fitting 5 folds for each of 1 candidates, totalling 5 fits\n",
      "Fitting 5 folds for each of 1 candidates, totalling 5 fits\n",
      "Fitting 5 folds for each of 1 candidates, totalling 5 fits\n",
      "Fitting 5 folds for each of 1 candidates, totalling 5 fits\n",
      "Fitting 5 folds for each of 1 candidates, totalling 5 fits\n",
      "Fitting 5 folds for each of 1 candidates, totalling 5 fits\n",
      "Fitting 5 folds for each of 1 candidates, totalling 5 fits\n",
      "Fitting 5 folds for each of 1 candidates, totalling 5 fits\n",
      "Fitting 5 folds for each of 1 candidates, totalling 5 fits\n",
      "Fitting 5 folds for each of 1 candidates, totalling 5 fits\n",
      "Fitting 5 folds for each of 1 candidates, totalling 5 fits\n",
      "Fitting 5 folds for each of 1 candidates, totalling 5 fits\n"
     ]
    },
    {
     "name": "stderr",
     "output_type": "stream",
     "text": [
      "c:\\dev\\python\\lib\\site-packages\\skopt\\optimizer\\optimizer.py:449: UserWarning: The objective has been evaluated at this point before.\n",
      "  warnings.warn(\"The objective has been evaluated \"\n"
     ]
    },
    {
     "name": "stdout",
     "output_type": "stream",
     "text": [
      "Fitting 5 folds for each of 1 candidates, totalling 5 fits\n",
      "Fitting 5 folds for each of 1 candidates, totalling 5 fits\n",
      "Fitting 5 folds for each of 1 candidates, totalling 5 fits\n",
      "Fitting 5 folds for each of 1 candidates, totalling 5 fits\n"
     ]
    },
    {
     "name": "stderr",
     "output_type": "stream",
     "text": [
      "c:\\dev\\python\\lib\\site-packages\\skopt\\optimizer\\optimizer.py:449: UserWarning: The objective has been evaluated at this point before.\n",
      "  warnings.warn(\"The objective has been evaluated \"\n"
     ]
    },
    {
     "name": "stdout",
     "output_type": "stream",
     "text": [
      "Fitting 5 folds for each of 1 candidates, totalling 5 fits\n",
      "Fitting 5 folds for each of 1 candidates, totalling 5 fits\n"
     ]
    },
    {
     "name": "stderr",
     "output_type": "stream",
     "text": [
      "c:\\dev\\python\\lib\\site-packages\\skopt\\optimizer\\optimizer.py:449: UserWarning: The objective has been evaluated at this point before.\n",
      "  warnings.warn(\"The objective has been evaluated \"\n"
     ]
    },
    {
     "name": "stdout",
     "output_type": "stream",
     "text": [
      "Fitting 5 folds for each of 1 candidates, totalling 5 fits\n",
      "Fitting 5 folds for each of 1 candidates, totalling 5 fits\n",
      "Fitting 5 folds for each of 1 candidates, totalling 5 fits\n",
      "Fitting 5 folds for each of 1 candidates, totalling 5 fits\n",
      "Fitting 5 folds for each of 1 candidates, totalling 5 fits\n"
     ]
    },
    {
     "name": "stderr",
     "output_type": "stream",
     "text": [
      "c:\\dev\\python\\lib\\site-packages\\skopt\\optimizer\\optimizer.py:449: UserWarning: The objective has been evaluated at this point before.\n",
      "  warnings.warn(\"The objective has been evaluated \"\n"
     ]
    },
    {
     "name": "stdout",
     "output_type": "stream",
     "text": [
      "Fitting 5 folds for each of 1 candidates, totalling 5 fits\n",
      "Fitting 5 folds for each of 1 candidates, totalling 5 fits\n",
      "Fitting 5 folds for each of 1 candidates, totalling 5 fits\n"
     ]
    },
    {
     "name": "stderr",
     "output_type": "stream",
     "text": [
      "c:\\dev\\python\\lib\\site-packages\\skopt\\optimizer\\optimizer.py:449: UserWarning: The objective has been evaluated at this point before.\n",
      "  warnings.warn(\"The objective has been evaluated \"\n"
     ]
    },
    {
     "name": "stdout",
     "output_type": "stream",
     "text": [
      "Fitting 5 folds for each of 1 candidates, totalling 5 fits\n"
     ]
    },
    {
     "name": "stderr",
     "output_type": "stream",
     "text": [
      "c:\\dev\\python\\lib\\site-packages\\skopt\\optimizer\\optimizer.py:449: UserWarning: The objective has been evaluated at this point before.\n",
      "  warnings.warn(\"The objective has been evaluated \"\n"
     ]
    },
    {
     "name": "stdout",
     "output_type": "stream",
     "text": [
      "Fitting 5 folds for each of 1 candidates, totalling 5 fits\n"
     ]
    },
    {
     "name": "stderr",
     "output_type": "stream",
     "text": [
      "c:\\dev\\python\\lib\\site-packages\\skopt\\optimizer\\optimizer.py:449: UserWarning: The objective has been evaluated at this point before.\n",
      "  warnings.warn(\"The objective has been evaluated \"\n"
     ]
    },
    {
     "name": "stdout",
     "output_type": "stream",
     "text": [
      "Fitting 5 folds for each of 1 candidates, totalling 5 fits\n",
      "Fitting 5 folds for each of 1 candidates, totalling 5 fits\n",
      "Fitting 5 folds for each of 1 candidates, totalling 5 fits\n",
      "Fitting 5 folds for each of 1 candidates, totalling 5 fits\n",
      "Fitting 5 folds for each of 1 candidates, totalling 5 fits\n",
      "Fitting 5 folds for each of 1 candidates, totalling 5 fits\n",
      "Fitting 5 folds for each of 1 candidates, totalling 5 fits\n",
      "Fitting 5 folds for each of 1 candidates, totalling 5 fits\n",
      "Fitting 5 folds for each of 1 candidates, totalling 5 fits\n",
      "Fitting 5 folds for each of 1 candidates, totalling 5 fits\n",
      "Fitting 5 folds for each of 1 candidates, totalling 5 fits\n",
      "Fitting 5 folds for each of 1 candidates, totalling 5 fits\n",
      "Fitting 5 folds for each of 1 candidates, totalling 5 fits\n",
      "Fitting 5 folds for each of 1 candidates, totalling 5 fits\n",
      "Fitting 5 folds for each of 1 candidates, totalling 5 fits\n",
      "Fitting 5 folds for each of 1 candidates, totalling 5 fits\n",
      "Fitting 5 folds for each of 1 candidates, totalling 5 fits\n",
      "Fitting 5 folds for each of 1 candidates, totalling 5 fits\n",
      "Fitting 5 folds for each of 1 candidates, totalling 5 fits\n",
      "Fitting 5 folds for each of 1 candidates, totalling 5 fits\n",
      "Fitting 5 folds for each of 1 candidates, totalling 5 fits\n",
      "Fitting 5 folds for each of 1 candidates, totalling 5 fits\n",
      "Fitting 5 folds for each of 1 candidates, totalling 5 fits\n",
      "Fitting 5 folds for each of 1 candidates, totalling 5 fits\n",
      "Fitting 5 folds for each of 1 candidates, totalling 5 fits\n",
      "Fitting 5 folds for each of 1 candidates, totalling 5 fits\n",
      "Fitting 5 folds for each of 1 candidates, totalling 5 fits\n",
      "Fitting 5 folds for each of 1 candidates, totalling 5 fits\n",
      "Fitting 5 folds for each of 1 candidates, totalling 5 fits\n",
      "Fitting 5 folds for each of 1 candidates, totalling 5 fits\n",
      "Fitting 5 folds for each of 1 candidates, totalling 5 fits\n",
      "Fitting 5 folds for each of 1 candidates, totalling 5 fits\n",
      "Fitting 5 folds for each of 1 candidates, totalling 5 fits\n",
      "Fitting 5 folds for each of 1 candidates, totalling 5 fits\n",
      "Fitting 5 folds for each of 1 candidates, totalling 5 fits\n",
      "Fitting 5 folds for each of 1 candidates, totalling 5 fits\n",
      "Fitting 5 folds for each of 1 candidates, totalling 5 fits\n",
      "Fitting 5 folds for each of 1 candidates, totalling 5 fits\n",
      "Fitting 5 folds for each of 1 candidates, totalling 5 fits\n",
      "Fitting 5 folds for each of 1 candidates, totalling 5 fits\n",
      "Fitting 5 folds for each of 1 candidates, totalling 5 fits\n",
      "Fitting 5 folds for each of 1 candidates, totalling 5 fits\n",
      "Fitting 5 folds for each of 1 candidates, totalling 5 fits\n",
      "Fitting 5 folds for each of 1 candidates, totalling 5 fits\n",
      "Fitting 5 folds for each of 1 candidates, totalling 5 fits\n",
      "Fitting 5 folds for each of 1 candidates, totalling 5 fits\n",
      "Fitting 5 folds for each of 1 candidates, totalling 5 fits\n",
      "Fitting 5 folds for each of 1 candidates, totalling 5 fits\n",
      "Fitting 5 folds for each of 1 candidates, totalling 5 fits\n",
      "Fitting 5 folds for each of 1 candidates, totalling 5 fits\n",
      "Fitting 5 folds for each of 1 candidates, totalling 5 fits\n",
      "Fitting 5 folds for each of 1 candidates, totalling 5 fits\n",
      "Fitting 5 folds for each of 1 candidates, totalling 5 fits\n",
      "Fitting 5 folds for each of 1 candidates, totalling 5 fits\n"
     ]
    },
    {
     "data": {
      "text/plain": [
       "BayesSearchCV(cv=5, estimator=MLPClassifier(), n_iter=150, n_jobs=-1,\n",
       "              search_spaces={'activation': ['relu', 'tanh'],\n",
       "                             'alpha': (1e-05, 0.01), 'batch_size': (32, 128),\n",
       "                             'hidden_layer_sizes': (10, 200),\n",
       "                             'learning_rate': ['constant', 'adaptive'],\n",
       "                             'max_iter': [3000],\n",
       "                             'solver': ['adam', 'lbfgs', 'sgd']},\n",
       "              verbose=10)"
      ]
     },
     "execution_count": 175,
     "metadata": {},
     "output_type": "execute_result"
    }
   ],
   "source": [
    "opt.fit(X_train, y_train)"
   ]
  },
  {
   "cell_type": "code",
   "execution_count": 176,
   "metadata": {},
   "outputs": [
    {
     "name": "stdout",
     "output_type": "stream",
     "text": [
      "Melhores Hiperparâmetros: OrderedDict([('activation', 'tanh'), ('alpha', 0.01), ('batch_size', 128), ('hidden_layer_sizes', 200), ('learning_rate', 'constant'), ('max_iter', 3000), ('solver', 'adam')])\n"
     ]
    }
   ],
   "source": [
    "print(\"Melhores Hiperparâmetros:\", opt.best_params_)\n"
   ]
  },
  {
   "cell_type": "code",
   "execution_count": 177,
   "metadata": {},
   "outputs": [
    {
     "name": "stdout",
     "output_type": "stream",
     "text": [
      "Acurácia no Conjunto de Teste: 0.7957219251336899\n"
     ]
    }
   ],
   "source": [
    "accuracy = opt.score(X_test, y_test)\n",
    "print(\"Acurácia no Conjunto de Teste:\", accuracy)"
   ]
  },
  {
   "cell_type": "code",
   "execution_count": 178,
   "metadata": {},
   "outputs": [
    {
     "data": {
      "text/plain": [
       "MLPClassifier(activation='tanh', alpha=0.01, batch_size=128,\n",
       "              hidden_layer_sizes=200, max_iter=3000)"
      ]
     },
     "execution_count": 178,
     "metadata": {},
     "output_type": "execute_result"
    }
   ],
   "source": [
    "mlp.set_params( **opt.best_params_)"
   ]
  },
  {
   "cell_type": "code",
   "execution_count": 179,
   "metadata": {},
   "outputs": [
    {
     "data": {
      "text/plain": [
       "MLPClassifier(activation='tanh', alpha=0.01, batch_size=128,\n",
       "              hidden_layer_sizes=200, max_iter=3000)"
      ]
     },
     "execution_count": 179,
     "metadata": {},
     "output_type": "execute_result"
    }
   ],
   "source": [
    "mlp.fit(X_train,y_train)"
   ]
  },
  {
   "cell_type": "markdown",
   "metadata": {},
   "source": [
    "### Utilizando no dataset de resposta"
   ]
  },
  {
   "cell_type": "code",
   "execution_count": 180,
   "metadata": {},
   "outputs": [],
   "source": [
    "data = pd.read_csv(\"./Dataset_resposta_processado.csv\")"
   ]
  },
  {
   "cell_type": "code",
   "execution_count": 181,
   "metadata": {},
   "outputs": [
    {
     "data": {
      "text/html": [
       "<div>\n",
       "<style scoped>\n",
       "    .dataframe tbody tr th:only-of-type {\n",
       "        vertical-align: middle;\n",
       "    }\n",
       "\n",
       "    .dataframe tbody tr th {\n",
       "        vertical-align: top;\n",
       "    }\n",
       "\n",
       "    .dataframe thead th {\n",
       "        text-align: right;\n",
       "    }\n",
       "</style>\n",
       "<table border=\"1\" class=\"dataframe\">\n",
       "  <thead>\n",
       "    <tr style=\"text-align: right;\">\n",
       "      <th></th>\n",
       "      <th>ID_Aluno</th>\n",
       "      <th>Disponibilidade_3_Meses</th>\n",
       "      <th>Computador</th>\n",
       "      <th>Móvel Próprio</th>\n",
       "      <th>Móvel Compartilhado</th>\n",
       "      <th>4G</th>\n",
       "      <th>Wifi</th>\n",
       "      <th>Trabalha_Estuda</th>\n",
       "      <th>Trabalha_meses</th>\n",
       "      <th>Disponivel</th>\n",
       "      <th>...</th>\n",
       "      <th>Renda_Familiar_Entre 3 e 4 salários mínimos (R$3.300 – R$4.400)</th>\n",
       "      <th>Renda_Familiar_Entre 4 e 5 salários mínimos (R$4.400 – R$5.500)</th>\n",
       "      <th>Renda_Familiar_Mais que 5 salários mínimos (mais que R$5.500)</th>\n",
       "      <th>Horario_Estudando_Já concluí</th>\n",
       "      <th>Horario_Estudando_Manhã</th>\n",
       "      <th>Horario_Estudando_Noite</th>\n",
       "      <th>Horario_Estudando_Tarde</th>\n",
       "      <th>Faixa_Pessoas_Casa_Pessoas_Casa_4-6</th>\n",
       "      <th>Faixa_Pessoas_Casa_Pessoas_Casa_7-10</th>\n",
       "      <th>Faixa_Pessoas_Casa_Pessoas_Casa_Mais_que_10</th>\n",
       "    </tr>\n",
       "  </thead>\n",
       "  <tbody>\n",
       "    <tr>\n",
       "      <th>0</th>\n",
       "      <td>7</td>\n",
       "      <td>0.0</td>\n",
       "      <td>1</td>\n",
       "      <td>1</td>\n",
       "      <td>0</td>\n",
       "      <td>0</td>\n",
       "      <td>1</td>\n",
       "      <td>0</td>\n",
       "      <td>0</td>\n",
       "      <td>1</td>\n",
       "      <td>...</td>\n",
       "      <td>0</td>\n",
       "      <td>0</td>\n",
       "      <td>0</td>\n",
       "      <td>1</td>\n",
       "      <td>0</td>\n",
       "      <td>0</td>\n",
       "      <td>0</td>\n",
       "      <td>0</td>\n",
       "      <td>0</td>\n",
       "      <td>0</td>\n",
       "    </tr>\n",
       "    <tr>\n",
       "      <th>1</th>\n",
       "      <td>8</td>\n",
       "      <td>0.0</td>\n",
       "      <td>0</td>\n",
       "      <td>1</td>\n",
       "      <td>0</td>\n",
       "      <td>0</td>\n",
       "      <td>0</td>\n",
       "      <td>0</td>\n",
       "      <td>0</td>\n",
       "      <td>1</td>\n",
       "      <td>...</td>\n",
       "      <td>0</td>\n",
       "      <td>0</td>\n",
       "      <td>0</td>\n",
       "      <td>0</td>\n",
       "      <td>0</td>\n",
       "      <td>1</td>\n",
       "      <td>0</td>\n",
       "      <td>0</td>\n",
       "      <td>1</td>\n",
       "      <td>0</td>\n",
       "    </tr>\n",
       "    <tr>\n",
       "      <th>2</th>\n",
       "      <td>9</td>\n",
       "      <td>0.0</td>\n",
       "      <td>1</td>\n",
       "      <td>1</td>\n",
       "      <td>0</td>\n",
       "      <td>0</td>\n",
       "      <td>1</td>\n",
       "      <td>0</td>\n",
       "      <td>0</td>\n",
       "      <td>1</td>\n",
       "      <td>...</td>\n",
       "      <td>1</td>\n",
       "      <td>0</td>\n",
       "      <td>0</td>\n",
       "      <td>1</td>\n",
       "      <td>0</td>\n",
       "      <td>0</td>\n",
       "      <td>0</td>\n",
       "      <td>0</td>\n",
       "      <td>0</td>\n",
       "      <td>0</td>\n",
       "    </tr>\n",
       "    <tr>\n",
       "      <th>3</th>\n",
       "      <td>17</td>\n",
       "      <td>0.0</td>\n",
       "      <td>1</td>\n",
       "      <td>1</td>\n",
       "      <td>0</td>\n",
       "      <td>1</td>\n",
       "      <td>1</td>\n",
       "      <td>0</td>\n",
       "      <td>0</td>\n",
       "      <td>1</td>\n",
       "      <td>...</td>\n",
       "      <td>0</td>\n",
       "      <td>0</td>\n",
       "      <td>0</td>\n",
       "      <td>0</td>\n",
       "      <td>1</td>\n",
       "      <td>0</td>\n",
       "      <td>0</td>\n",
       "      <td>0</td>\n",
       "      <td>0</td>\n",
       "      <td>0</td>\n",
       "    </tr>\n",
       "    <tr>\n",
       "      <th>4</th>\n",
       "      <td>18</td>\n",
       "      <td>0.0</td>\n",
       "      <td>0</td>\n",
       "      <td>1</td>\n",
       "      <td>0</td>\n",
       "      <td>0</td>\n",
       "      <td>1</td>\n",
       "      <td>0</td>\n",
       "      <td>0</td>\n",
       "      <td>1</td>\n",
       "      <td>...</td>\n",
       "      <td>0</td>\n",
       "      <td>0</td>\n",
       "      <td>0</td>\n",
       "      <td>1</td>\n",
       "      <td>0</td>\n",
       "      <td>0</td>\n",
       "      <td>0</td>\n",
       "      <td>0</td>\n",
       "      <td>0</td>\n",
       "      <td>0</td>\n",
       "    </tr>\n",
       "  </tbody>\n",
       "</table>\n",
       "<p>5 rows × 38 columns</p>\n",
       "</div>"
      ],
      "text/plain": [
       "   ID_Aluno  Disponibilidade_3_Meses  Computador  Móvel Próprio  \\\n",
       "0         7                      0.0           1              1   \n",
       "1         8                      0.0           0              1   \n",
       "2         9                      0.0           1              1   \n",
       "3        17                      0.0           1              1   \n",
       "4        18                      0.0           0              1   \n",
       "\n",
       "   Móvel Compartilhado  4G  Wifi  Trabalha_Estuda  Trabalha_meses  Disponivel  \\\n",
       "0                    0   0     1                0               0           1   \n",
       "1                    0   0     0                0               0           1   \n",
       "2                    0   0     1                0               0           1   \n",
       "3                    0   1     1                0               0           1   \n",
       "4                    0   0     1                0               0           1   \n",
       "\n",
       "   ...  Renda_Familiar_Entre 3 e 4 salários mínimos (R$3.300 – R$4.400)  \\\n",
       "0  ...                                                  0                 \n",
       "1  ...                                                  0                 \n",
       "2  ...                                                  1                 \n",
       "3  ...                                                  0                 \n",
       "4  ...                                                  0                 \n",
       "\n",
       "   Renda_Familiar_Entre 4 e 5 salários mínimos (R$4.400 – R$5.500)  \\\n",
       "0                                                  0                 \n",
       "1                                                  0                 \n",
       "2                                                  0                 \n",
       "3                                                  0                 \n",
       "4                                                  0                 \n",
       "\n",
       "   Renda_Familiar_Mais que 5 salários mínimos (mais que R$5.500)  \\\n",
       "0                                                  0               \n",
       "1                                                  0               \n",
       "2                                                  0               \n",
       "3                                                  0               \n",
       "4                                                  0               \n",
       "\n",
       "   Horario_Estudando_Já concluí  Horario_Estudando_Manhã  \\\n",
       "0                             1                        0   \n",
       "1                             0                        0   \n",
       "2                             1                        0   \n",
       "3                             0                        1   \n",
       "4                             1                        0   \n",
       "\n",
       "   Horario_Estudando_Noite  Horario_Estudando_Tarde  \\\n",
       "0                        0                        0   \n",
       "1                        1                        0   \n",
       "2                        0                        0   \n",
       "3                        0                        0   \n",
       "4                        0                        0   \n",
       "\n",
       "   Faixa_Pessoas_Casa_Pessoas_Casa_4-6  Faixa_Pessoas_Casa_Pessoas_Casa_7-10  \\\n",
       "0                                    0                                     0   \n",
       "1                                    0                                     1   \n",
       "2                                    0                                     0   \n",
       "3                                    0                                     0   \n",
       "4                                    0                                     0   \n",
       "\n",
       "   Faixa_Pessoas_Casa_Pessoas_Casa_Mais_que_10  \n",
       "0                                            0  \n",
       "1                                            0  \n",
       "2                                            0  \n",
       "3                                            0  \n",
       "4                                            0  \n",
       "\n",
       "[5 rows x 38 columns]"
      ]
     },
     "execution_count": 181,
     "metadata": {},
     "output_type": "execute_result"
    }
   ],
   "source": [
    "data.head()"
   ]
  },
  {
   "cell_type": "code",
   "execution_count": 182,
   "metadata": {},
   "outputs": [],
   "source": [
    "df_submit = pd.DataFrame()\n",
    "df_submit['ID_Aluno'] = data['ID_Aluno']"
   ]
  },
  {
   "cell_type": "code",
   "execution_count": 183,
   "metadata": {},
   "outputs": [
    {
     "data": {
      "text/html": [
       "<div>\n",
       "<style scoped>\n",
       "    .dataframe tbody tr th:only-of-type {\n",
       "        vertical-align: middle;\n",
       "    }\n",
       "\n",
       "    .dataframe tbody tr th {\n",
       "        vertical-align: top;\n",
       "    }\n",
       "\n",
       "    .dataframe thead th {\n",
       "        text-align: right;\n",
       "    }\n",
       "</style>\n",
       "<table border=\"1\" class=\"dataframe\">\n",
       "  <thead>\n",
       "    <tr style=\"text-align: right;\">\n",
       "      <th></th>\n",
       "      <th>ID_Aluno</th>\n",
       "    </tr>\n",
       "  </thead>\n",
       "  <tbody>\n",
       "    <tr>\n",
       "      <th>0</th>\n",
       "      <td>7</td>\n",
       "    </tr>\n",
       "    <tr>\n",
       "      <th>1</th>\n",
       "      <td>8</td>\n",
       "    </tr>\n",
       "    <tr>\n",
       "      <th>2</th>\n",
       "      <td>9</td>\n",
       "    </tr>\n",
       "    <tr>\n",
       "      <th>3</th>\n",
       "      <td>17</td>\n",
       "    </tr>\n",
       "    <tr>\n",
       "      <th>4</th>\n",
       "      <td>18</td>\n",
       "    </tr>\n",
       "    <tr>\n",
       "      <th>...</th>\n",
       "      <td>...</td>\n",
       "    </tr>\n",
       "    <tr>\n",
       "      <th>1589</th>\n",
       "      <td>5338</td>\n",
       "    </tr>\n",
       "    <tr>\n",
       "      <th>1590</th>\n",
       "      <td>5339</td>\n",
       "    </tr>\n",
       "    <tr>\n",
       "      <th>1591</th>\n",
       "      <td>5347</td>\n",
       "    </tr>\n",
       "    <tr>\n",
       "      <th>1592</th>\n",
       "      <td>5348</td>\n",
       "    </tr>\n",
       "    <tr>\n",
       "      <th>1593</th>\n",
       "      <td>5349</td>\n",
       "    </tr>\n",
       "  </tbody>\n",
       "</table>\n",
       "<p>1594 rows × 1 columns</p>\n",
       "</div>"
      ],
      "text/plain": [
       "      ID_Aluno\n",
       "0            7\n",
       "1            8\n",
       "2            9\n",
       "3           17\n",
       "4           18\n",
       "...        ...\n",
       "1589      5338\n",
       "1590      5339\n",
       "1591      5347\n",
       "1592      5348\n",
       "1593      5349\n",
       "\n",
       "[1594 rows x 1 columns]"
      ]
     },
     "execution_count": 183,
     "metadata": {},
     "output_type": "execute_result"
    }
   ],
   "source": [
    "df_submit"
   ]
  },
  {
   "cell_type": "code",
   "execution_count": 184,
   "metadata": {},
   "outputs": [],
   "source": [
    "data.drop(['ID_Aluno'], inplace = True, axis = 1)"
   ]
  },
  {
   "cell_type": "code",
   "execution_count": 185,
   "metadata": {},
   "outputs": [
    {
     "data": {
      "text/plain": [
       "(2803, 37)"
      ]
     },
     "execution_count": 185,
     "metadata": {},
     "output_type": "execute_result"
    }
   ],
   "source": [
    "X_train.shape"
   ]
  },
  {
   "cell_type": "code",
   "execution_count": 186,
   "metadata": {},
   "outputs": [],
   "source": [
    "y_pred = mlp.predict(data)"
   ]
  },
  {
   "cell_type": "code",
   "execution_count": 187,
   "metadata": {},
   "outputs": [],
   "source": [
    "df_submit['Abandono_curso'] = y_pred"
   ]
  },
  {
   "cell_type": "code",
   "execution_count": 188,
   "metadata": {},
   "outputs": [
    {
     "data": {
      "text/html": [
       "<div>\n",
       "<style scoped>\n",
       "    .dataframe tbody tr th:only-of-type {\n",
       "        vertical-align: middle;\n",
       "    }\n",
       "\n",
       "    .dataframe tbody tr th {\n",
       "        vertical-align: top;\n",
       "    }\n",
       "\n",
       "    .dataframe thead th {\n",
       "        text-align: right;\n",
       "    }\n",
       "</style>\n",
       "<table border=\"1\" class=\"dataframe\">\n",
       "  <thead>\n",
       "    <tr style=\"text-align: right;\">\n",
       "      <th></th>\n",
       "      <th>ID_Aluno</th>\n",
       "      <th>Abandono_curso</th>\n",
       "    </tr>\n",
       "  </thead>\n",
       "  <tbody>\n",
       "    <tr>\n",
       "      <th>0</th>\n",
       "      <td>7</td>\n",
       "      <td>0</td>\n",
       "    </tr>\n",
       "    <tr>\n",
       "      <th>1</th>\n",
       "      <td>8</td>\n",
       "      <td>1</td>\n",
       "    </tr>\n",
       "    <tr>\n",
       "      <th>2</th>\n",
       "      <td>9</td>\n",
       "      <td>1</td>\n",
       "    </tr>\n",
       "    <tr>\n",
       "      <th>3</th>\n",
       "      <td>17</td>\n",
       "      <td>0</td>\n",
       "    </tr>\n",
       "    <tr>\n",
       "      <th>4</th>\n",
       "      <td>18</td>\n",
       "      <td>0</td>\n",
       "    </tr>\n",
       "  </tbody>\n",
       "</table>\n",
       "</div>"
      ],
      "text/plain": [
       "   ID_Aluno  Abandono_curso\n",
       "0         7               0\n",
       "1         8               1\n",
       "2         9               1\n",
       "3        17               0\n",
       "4        18               0"
      ]
     },
     "execution_count": 188,
     "metadata": {},
     "output_type": "execute_result"
    }
   ],
   "source": [
    "df_submit.head()"
   ]
  },
  {
   "cell_type": "code",
   "execution_count": 189,
   "metadata": {},
   "outputs": [],
   "source": [
    "df_submit.to_csv(\"output/mlp.csv\",sep=\",\",header=True,index = False)"
   ]
  },
  {
   "cell_type": "code",
   "execution_count": 73,
   "metadata": {},
   "outputs": [],
   "source": [
    "teste = pd.read_csv(\"resposta.csv\")"
   ]
  },
  {
   "cell_type": "code",
   "execution_count": 74,
   "metadata": {},
   "outputs": [
    {
     "data": {
      "text/html": [
       "<div>\n",
       "<style scoped>\n",
       "    .dataframe tbody tr th:only-of-type {\n",
       "        vertical-align: middle;\n",
       "    }\n",
       "\n",
       "    .dataframe tbody tr th {\n",
       "        vertical-align: top;\n",
       "    }\n",
       "\n",
       "    .dataframe thead th {\n",
       "        text-align: right;\n",
       "    }\n",
       "</style>\n",
       "<table border=\"1\" class=\"dataframe\">\n",
       "  <thead>\n",
       "    <tr style=\"text-align: right;\">\n",
       "      <th></th>\n",
       "      <th>ID_Aluno</th>\n",
       "      <th>Abandono_curso</th>\n",
       "    </tr>\n",
       "  </thead>\n",
       "  <tbody>\n",
       "    <tr>\n",
       "      <th>0</th>\n",
       "      <td>7</td>\n",
       "      <td>0</td>\n",
       "    </tr>\n",
       "    <tr>\n",
       "      <th>1</th>\n",
       "      <td>8</td>\n",
       "      <td>1</td>\n",
       "    </tr>\n",
       "    <tr>\n",
       "      <th>2</th>\n",
       "      <td>9</td>\n",
       "      <td>1</td>\n",
       "    </tr>\n",
       "    <tr>\n",
       "      <th>3</th>\n",
       "      <td>17</td>\n",
       "      <td>0</td>\n",
       "    </tr>\n",
       "    <tr>\n",
       "      <th>4</th>\n",
       "      <td>18</td>\n",
       "      <td>0</td>\n",
       "    </tr>\n",
       "  </tbody>\n",
       "</table>\n",
       "</div>"
      ],
      "text/plain": [
       "   ID_Aluno  Abandono_curso\n",
       "0         7               0\n",
       "1         8               1\n",
       "2         9               1\n",
       "3        17               0\n",
       "4        18               0"
      ]
     },
     "execution_count": 74,
     "metadata": {},
     "output_type": "execute_result"
    }
   ],
   "source": [
    "teste.head()"
   ]
  }
 ],
 "metadata": {
  "kernelspec": {
   "display_name": "Python 3",
   "language": "python",
   "name": "python3"
  },
  "language_info": {
   "codemirror_mode": {
    "name": "ipython",
    "version": 3
   },
   "file_extension": ".py",
   "mimetype": "text/x-python",
   "name": "python",
   "nbconvert_exporter": "python",
   "pygments_lexer": "ipython3",
   "version": "3.9.12"
  }
 },
 "nbformat": 4,
 "nbformat_minor": 2
}
